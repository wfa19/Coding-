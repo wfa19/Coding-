{
  "cells": [
    {
      "cell_type": "markdown",
      "metadata": {
        "id": "view-in-github",
        "colab_type": "text"
      },
      "source": [
        "<a href=\"https://colab.research.google.com/github/wfa19/Coding-/blob/main/project_1_python.ipynb\" target=\"_parent\"><img src=\"https://colab.research.google.com/assets/colab-badge.svg\" alt=\"Open In Colab\"/></a>"
      ]
    },
    {
      "cell_type": "markdown",
      "id": "77fdc397",
      "metadata": {
        "id": "77fdc397"
      },
      "source": [
        "<h2>1. Data Reading:</h2>\n",
        "\n",
        "Write functions to read data from CSV, Excel, JSON, and other formats using Pandas."
      ]
    },
    {
      "cell_type": "code",
      "execution_count": null,
      "id": "e9867ba6",
      "metadata": {
        "id": "e9867ba6"
      },
      "outputs": [],
      "source": [
        "import pandas as pd\n",
        "\n",
        "def read_file(file_path):\n",
        "    # Check if the file is a CSV or Excel file\n",
        "    if file_path.endswith('.csv'):\n",
        "        # Read CSV file\n",
        "        df = pd.read_csv(file_path)\n",
        "    elif file_path.endswith(('.xls', '.xlsx')):\n",
        "        # Read Excel file\n",
        "        df = pd.read_excel(file_path)\n",
        "    else:\n",
        "        print(\"Unsupported file format. Please provide a CSV or Excel file.\")\n",
        "        return None\n",
        "\n",
        "    return df"
      ]
    },
    {
      "cell_type": "code",
      "execution_count": null,
      "id": "ba2ac935",
      "metadata": {
        "colab": {
          "base_uri": "https://localhost:8080/"
        },
        "id": "ba2ac935",
        "outputId": "954322d4-2da2-434e-b7ef-d0c50ecb4fed"
      },
      "outputs": [
        {
          "output_type": "stream",
          "name": "stdout",
          "text": [
            "Enter the file path: /content/reviews.csv\n",
            "Data loaded successfully:\n",
            "                listing_id        date\n",
            "0                  1489424  2013-09-10\n",
            "1                  1489424  2013-10-12\n",
            "2                  1489424  2013-10-16\n",
            "3                  1489424  2013-10-23\n",
            "4                  1489424  2013-10-24\n",
            "...                    ...         ...\n",
            "21865  1045540313134380198  2024-02-11\n",
            "21866  1052381112116173923  2024-01-02\n",
            "21867  1062527013885315764  2024-02-01\n",
            "21868  1062527013885315764  2024-02-10\n",
            "21869  1075444056381274297  2024-02-04\n",
            "\n",
            "[21870 rows x 2 columns]\n"
          ]
        }
      ],
      "source": [
        "file_path = input(\"Enter the file path: \")\n",
        "data = read_file(file_path)\n",
        "if data is not None:\n",
        "    print(\"Data loaded successfully:\")\n",
        "    print(data)"
      ]
    },
    {
      "cell_type": "markdown",
      "id": "ddac5bb6",
      "metadata": {
        "id": "ddac5bb6"
      },
      "source": [
        "<h2>2.Data Summary:</h2>\n",
        "Develop functions to print key statistical summaries of the data, including metrics like the average and most frequent values.\n"
      ]
    },
    {
      "cell_type": "code",
      "execution_count": null,
      "id": "7479d7fc",
      "metadata": {
        "id": "7479d7fc"
      },
      "outputs": [],
      "source": [
        "def dataset_summary(data):\n",
        "\n",
        "    summary = data.describe(include='all').transpose()\n",
        "    summary['dtype'] = data.dtypes\n",
        "    summary['missing_values'] = data.isnull().sum()\n",
        "    summary['unique_values'] = data.nunique()\n",
        "    return summary\n",
        "\n",
        "def correlation_matrix(data):\n",
        "\n",
        "    return data.corr()\n",
        "\n",
        "def missing_values_summary(data):\n",
        "\n",
        "    missing_values = data.isnull().sum()\n",
        "    return missing_values\n",
        "\n",
        "def categorical_summary(data):\n",
        "\n",
        "    categorical_summary = data.describe(include=['object'])\n",
        "    return categorical_summary"
      ]
    },
    {
      "cell_type": "code",
      "execution_count": null,
      "id": "e8343746",
      "metadata": {
        "colab": {
          "base_uri": "https://localhost:8080/"
        },
        "id": "e8343746",
        "outputId": "a89b48b0-85b1-4aff-b40f-39f490447391"
      },
      "outputs": [
        {
          "output_type": "stream",
          "name": "stdout",
          "text": [
            "              count unique         top freq                  mean  \\\n",
            "listing_id  21870.0    NaN         NaN  NaN  134763478164407472.0   \n",
            "date          21870   2941  2023-02-26   66                   NaN   \n",
            "\n",
            "                             std        min         25%         50%  \\\n",
            "listing_id  289957526393556864.0  1489424.0  22398196.0  38321579.0   \n",
            "date                         NaN        NaN         NaN         NaN   \n",
            "\n",
            "                   75%                    max   dtype  missing_values  \\\n",
            "listing_id  52611613.0  1075444056381274240.0   int64               0   \n",
            "date               NaN                    NaN  object               0   \n",
            "\n",
            "            unique_values  \n",
            "listing_id            360  \n",
            "date                 2941  \n"
          ]
        }
      ],
      "source": [
        "data_summery = dataset_summary(data)\n",
        "print (data_summery)"
      ]
    },
    {
      "cell_type": "code",
      "execution_count": null,
      "id": "42e18825",
      "metadata": {
        "colab": {
          "base_uri": "https://localhost:8080/"
        },
        "id": "42e18825",
        "outputId": "536f1a07-04ec-4937-94ee-8e1ef4525a5e"
      },
      "outputs": [
        {
          "output_type": "stream",
          "name": "stdout",
          "text": [
            "            listing_id\n",
            "listing_id         1.0\n"
          ]
        },
        {
          "output_type": "stream",
          "name": "stderr",
          "text": [
            "<ipython-input-12-4e866393d9dd>:11: FutureWarning: The default value of numeric_only in DataFrame.corr is deprecated. In a future version, it will default to False. Select only valid columns or specify the value of numeric_only to silence this warning.\n",
            "  return data.corr()\n"
          ]
        }
      ],
      "source": [
        "data_coor= correlation_matrix(data)\n",
        "print (data_coor)\n"
      ]
    },
    {
      "cell_type": "code",
      "execution_count": null,
      "id": "48304c51",
      "metadata": {
        "colab": {
          "base_uri": "https://localhost:8080/"
        },
        "id": "48304c51",
        "outputId": "5ba5562c-c1ce-4af0-edb5-c8c371258710"
      },
      "outputs": [
        {
          "output_type": "stream",
          "name": "stdout",
          "text": [
            "listing_id    0\n",
            "date          0\n",
            "dtype: int64\n"
          ]
        }
      ],
      "source": [
        "data_missing = missing_values_summary(data)\n",
        "print(data_missing)"
      ]
    },
    {
      "cell_type": "code",
      "execution_count": null,
      "id": "2ca23869",
      "metadata": {
        "colab": {
          "base_uri": "https://localhost:8080/"
        },
        "id": "2ca23869",
        "outputId": "c1ab00c3-4ec0-4a22-c565-f9c7c366e645"
      },
      "outputs": [
        {
          "output_type": "stream",
          "name": "stdout",
          "text": [
            "              date\n",
            "count        21870\n",
            "unique        2941\n",
            "top     2023-02-26\n",
            "freq            66\n"
          ]
        }
      ],
      "source": [
        "data_catigorical = categorical_summary(data)\n",
        "print(data_catigorical)"
      ]
    },
    {
      "cell_type": "markdown",
      "id": "d711b629",
      "metadata": {
        "id": "d711b629"
      },
      "source": [
        "<h2>3.Handling Missing Values:</h2>\n",
        "Create functions for addressing missing values, offering solutions to either remove or impute them based on set strategies.\n"
      ]
    },
    {
      "cell_type": "code",
      "execution_count": null,
      "id": "b289c49b",
      "metadata": {
        "colab": {
          "base_uri": "https://localhost:8080/"
        },
        "id": "b289c49b",
        "outputId": "9bf107fb-85fc-4e0c-fe1d-f6a403b8b4f8"
      },
      "outputs": [
        {
          "output_type": "stream",
          "name": "stdout",
          "text": [
            "DataFrame after removing rows with missing values:\n",
            "                listing_id        date\n",
            "0                  1489424  2013-09-10\n",
            "1                  1489424  2013-10-12\n",
            "2                  1489424  2013-10-16\n",
            "3                  1489424  2013-10-23\n",
            "4                  1489424  2013-10-24\n",
            "...                    ...         ...\n",
            "21865  1045540313134380198  2024-02-11\n",
            "21866  1052381112116173923  2024-01-02\n",
            "21867  1062527013885315764  2024-02-01\n",
            "21868  1062527013885315764  2024-02-10\n",
            "21869  1075444056381274297  2024-02-04\n",
            "\n",
            "[21870 rows x 2 columns]\n",
            "\n",
            "DataFrame after imputing missing values with mean:\n",
            "                listing_id        date\n",
            "0                  1489424  2013-09-10\n",
            "1                  1489424  2013-10-12\n",
            "2                  1489424  2013-10-16\n",
            "3                  1489424  2013-10-23\n",
            "4                  1489424  2013-10-24\n",
            "...                    ...         ...\n",
            "21865  1045540313134380198  2024-02-11\n",
            "21866  1052381112116173923  2024-01-02\n",
            "21867  1062527013885315764  2024-02-01\n",
            "21868  1062527013885315764  2024-02-10\n",
            "21869  1075444056381274297  2024-02-04\n",
            "\n",
            "[21870 rows x 2 columns]\n",
            "\n",
            "DataFrame after imputing missing values with a constant value (-1):\n",
            "                listing_id        date\n",
            "0                  1489424  2013-09-10\n",
            "1                  1489424  2013-10-12\n",
            "2                  1489424  2013-10-16\n",
            "3                  1489424  2013-10-23\n",
            "4                  1489424  2013-10-24\n",
            "...                    ...         ...\n",
            "21865  1045540313134380198  2024-02-11\n",
            "21866  1052381112116173923  2024-01-02\n",
            "21867  1062527013885315764  2024-02-01\n",
            "21868  1062527013885315764  2024-02-10\n",
            "21869  1075444056381274297  2024-02-04\n",
            "\n",
            "[21870 rows x 2 columns]\n"
          ]
        },
        {
          "output_type": "stream",
          "name": "stderr",
          "text": [
            "<ipython-input-17-10b3100fcd65>:10: FutureWarning: The default value of numeric_only in DataFrame.mean is deprecated. In a future version, it will default to False. In addition, specifying 'numeric_only=None' is deprecated. Select only valid columns or specify the value of numeric_only to silence this warning.\n",
            "  fill_value = df.mean()\n"
          ]
        }
      ],
      "source": [
        "def handle_missing_values(df, strategy='remove', **kwargs):\n",
        "\n",
        "    if strategy == 'remove':\n",
        "        # Remove rows with any missing values\n",
        "        df_cleaned = df.dropna()\n",
        "        return df_cleaned\n",
        "    elif strategy in ['mean', 'median', 'mode']:\n",
        "        # Impute missing values with mean, median, or mode\n",
        "        if strategy == 'mean':\n",
        "            fill_value = df.mean()\n",
        "        elif strategy == 'median':\n",
        "            fill_value = df.median()\n",
        "        elif strategy == 'mode':\n",
        "            fill_value = df.mode().iloc[0]\n",
        "\n",
        "        df_imputed = df.fillna(fill_value)\n",
        "        return df_imputed\n",
        "    elif strategy == 'constant':\n",
        "        # Impute missing values with a constant value\n",
        "        constant_value = kwargs.get('constant_value')\n",
        "        if constant_value is None:\n",
        "            print(\"Constant value not provided. Please provide a constant value.\")\n",
        "            return None\n",
        "        else:\n",
        "            df_imputed = df.fillna(constant_value)\n",
        "            return df_imputed\n",
        "    else:\n",
        "        print(\"Invalid strategy. Please choose one of the following strategies: 'remove', 'mean', 'median', 'mode', 'constant'.\")\n",
        "        return None\n",
        "\n",
        "data_check = {'First': [1, 3, 5,None],\n",
        "        'Second': [2,None, 4,6],\n",
        "        'thired': [3, 7, 11]}\n",
        "df = pd.DataFrame(data)\n",
        "\n",
        "# Handle missing values using different strategies\n",
        "# Remove rows with missing values\n",
        "cleaned_df = handle_missing_values(df, strategy='remove')\n",
        "print(\"DataFrame after removing rows with missing values:\")\n",
        "print(cleaned_df)\n",
        "\n",
        "# Impute missing values with mean\n",
        "imputed_mean_df = handle_missing_values(df, strategy='mean')\n",
        "print(\"\\nDataFrame after imputing missing values with mean:\")\n",
        "print(imputed_mean_df)\n",
        "\n",
        "# Impute missing values with a constant value (e.g., -1)\n",
        "imputed_constant_df = handle_missing_values(df, strategy='constant', constant_value=-1)\n",
        "print(\"\\nDataFrame after imputing missing values with a constant value (-1):\")\n",
        "print(imputed_constant_df)\n"
      ]
    },
    {
      "cell_type": "markdown",
      "id": "52b09e9b",
      "metadata": {
        "id": "52b09e9b"
      },
      "source": [
        "<h2>4. Categorical Data Encoding:</h2>\n",
        " Design functions for encoding categorical data, allowing their conversion into numerical formats for analysis.\n"
      ]
    },
    {
      "cell_type": "code",
      "execution_count": null,
      "id": "9360ec5d",
      "metadata": {
        "colab": {
          "base_uri": "https://localhost:8080/"
        },
        "id": "9360ec5d",
        "outputId": "4cd4e1d8-762e-4f12-9b18-980ae2633956"
      },
      "outputs": [
        {
          "output_type": "stream",
          "name": "stdout",
          "text": [
            "DataFrame after label encoding:\n",
            "   Class  Color  Value\n",
            "0      0      2     10\n",
            "1      1      0     30\n",
            "2      2      1     50\n",
            "\n",
            "DataFrame after one-hot encoding:\n",
            "   Value  Class_A  Class_B  Class_C  Color_Blue  Color_Green  Color_Red\n",
            "0     10        1        0        0           0            0          1\n",
            "1     30        0        1        0           1            0          0\n",
            "2     50        0        0        1           0            1          0\n"
          ]
        }
      ],
      "source": [
        "import pandas as pd\n",
        "from sklearn.preprocessing import LabelEncoder, OneHotEncoder\n",
        "\n",
        "def label_encode_categorical(df, columns):\n",
        "    \"\"\"\n",
        "    Label encode categorical columns in a DataFrame.\n",
        "\n",
        "    Parameters:\n",
        "        df (DataFrame): Input DataFrame.\n",
        "        columns (list): List of column names to label encode.\n",
        "\n",
        "    Returns:\n",
        "        DataFrame: DataFrame with categorical columns label encoded.\n",
        "    \"\"\"\n",
        "    df_encoded = df.copy()\n",
        "    label_encoder = LabelEncoder()\n",
        "    for col in columns:\n",
        "        if df[col].dtype == 'object':\n",
        "            df_encoded[col] = label_encoder.fit_transform(df[col])\n",
        "    return df_encoded\n",
        "\n",
        "def one_hot_encode_categorical(df, columns):\n",
        "\n",
        "    df_encoded = df.copy()\n",
        "    for col in columns:\n",
        "        if df[col].dtype == 'object':\n",
        "            df_encoded = pd.concat([df_encoded, pd.get_dummies(df[col], prefix=col)], axis=1)\n",
        "            df_encoded.drop(col, axis=1, inplace=True)\n",
        "    return df_encoded\n",
        "\n",
        "# Example:\n",
        "data = {'Class': ['A', 'B', 'C'],\n",
        "        'Color': ['Red', 'Blue', 'Green'],\n",
        "        'Value': [10, 30, 50]}\n",
        "df = pd.DataFrame(data)\n",
        "\n",
        "# Label encode categorical columns\n",
        "encoded_df_label = label_encode_categorical(df, columns=['Class', 'Color'])\n",
        "print(\"DataFrame after label encoding:\")\n",
        "print(encoded_df_label)\n",
        "\n",
        "# One-hot encode categorical columns\n",
        "encoded_df_one_hot = one_hot_encode_categorical(df, columns=['Class', 'Color'])\n",
        "print(\"\\nDataFrame after one-hot encoding:\")\n",
        "print(encoded_df_one_hot)"
      ]
    }
  ],
  "metadata": {
    "kernelspec": {
      "display_name": "Python 3 (ipykernel)",
      "language": "python",
      "name": "python3"
    },
    "language_info": {
      "codemirror_mode": {
        "name": "ipython",
        "version": 3
      },
      "file_extension": ".py",
      "mimetype": "text/x-python",
      "name": "python",
      "nbconvert_exporter": "python",
      "pygments_lexer": "ipython3",
      "version": "3.9.18"
    },
    "colab": {
      "provenance": [],
      "include_colab_link": true
    }
  },
  "nbformat": 4,
  "nbformat_minor": 5
}