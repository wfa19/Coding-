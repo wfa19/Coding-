{
 "cells": [
  {
   "cell_type": "code",
   "execution_count": 1,
   "id": "f3559502",
   "metadata": {
    "execution": {
     "iopub.execute_input": "2022-12-03T11:53:19.863848Z",
     "iopub.status.busy": "2022-12-03T11:53:19.863411Z",
     "iopub.status.idle": "2022-12-03T11:53:53.783828Z",
     "shell.execute_reply": "2022-12-03T11:53:53.782419Z"
    },
    "papermill": {
     "duration": 33.945725,
     "end_time": "2022-12-03T11:53:53.786658",
     "exception": false,
     "start_time": "2022-12-03T11:53:19.840933",
     "status": "completed"
    },
    "tags": []
   },
   "outputs": [
    {
     "name": "stdout",
     "output_type": "stream",
     "text": [
      "Collecting cleantext\r\n",
      "  Downloading cleantext-1.1.4-py3-none-any.whl (4.9 kB)\r\n",
      "Requirement already satisfied: nltk in /opt/conda/lib/python3.7/site-packages (from cleantext) (3.7)\r\n",
      "Requirement already satisfied: regex>=2021.8.3 in /opt/conda/lib/python3.7/site-packages (from nltk->cleantext) (2021.11.10)\r\n",
      "Requirement already satisfied: joblib in /opt/conda/lib/python3.7/site-packages (from nltk->cleantext) (1.0.1)\r\n",
      "Requirement already satisfied: click in /opt/conda/lib/python3.7/site-packages (from nltk->cleantext) (8.0.4)\r\n",
      "Requirement already satisfied: tqdm in /opt/conda/lib/python3.7/site-packages (from nltk->cleantext) (4.64.0)\r\n",
      "Requirement already satisfied: importlib-metadata in /opt/conda/lib/python3.7/site-packages (from click->nltk->cleantext) (4.13.0)\r\n",
      "Requirement already satisfied: zipp>=0.5 in /opt/conda/lib/python3.7/site-packages (from importlib-metadata->click->nltk->cleantext) (3.8.0)\r\n",
      "Requirement already satisfied: typing-extensions>=3.6.4 in /opt/conda/lib/python3.7/site-packages (from importlib-metadata->click->nltk->cleantext) (4.1.1)\r\n",
      "Installing collected packages: cleantext\r\n",
      "Successfully installed cleantext-1.1.4\r\n",
      "\u001b[33mWARNING: Running pip as the 'root' user can result in broken permissions and conflicting behaviour with the system package manager. It is recommended to use a virtual environment instead: https://pip.pypa.io/warnings/venv\u001b[0m\u001b[33m\r\n",
      "\u001b[0mCollecting emoji==1.7\r\n",
      "  Downloading emoji-1.7.0.tar.gz (175 kB)\r\n",
      "\u001b[2K     \u001b[90m━━━━━━━━━━━━━━━━━━━━━━━━━━━━━━━━━━━━━━━\u001b[0m \u001b[32m175.4/175.4 kB\u001b[0m \u001b[31m1.2 MB/s\u001b[0m eta \u001b[36m0:00:00\u001b[0m\r\n",
      "\u001b[?25h  Preparing metadata (setup.py) ... \u001b[?25l-\b \bdone\r\n",
      "\u001b[?25hBuilding wheels for collected packages: emoji\r\n",
      "  Building wheel for emoji (setup.py) ... \u001b[?25l-\b \b\\\b \bdone\r\n",
      "\u001b[?25h  Created wheel for emoji: filename=emoji-1.7.0-py3-none-any.whl size=171046 sha256=0c00336e7f6203a62b0d85d5a0af0a94f33a4a6949d27e929d822e93b36a9b49\r\n",
      "  Stored in directory: /root/.cache/pip/wheels/8a/4e/b6/57b01db010d17ef6ea9b40300af725ef3e210cb1acfb7ac8b6\r\n",
      "Successfully built emoji\r\n",
      "Installing collected packages: emoji\r\n",
      "  Attempting uninstall: emoji\r\n",
      "    Found existing installation: emoji 2.1.0\r\n",
      "    Uninstalling emoji-2.1.0:\r\n",
      "      Successfully uninstalled emoji-2.1.0\r\n",
      "Successfully installed emoji-1.7.0\r\n",
      "\u001b[33mWARNING: Running pip as the 'root' user can result in broken permissions and conflicting behaviour with the system package manager. It is recommended to use a virtual environment instead: https://pip.pypa.io/warnings/venv\u001b[0m\u001b[33m\r\n",
      "\u001b[0mCollecting wget\r\n",
      "  Downloading wget-3.2.zip (10 kB)\r\n",
      "  Preparing metadata (setup.py) ... \u001b[?25l-\b \bdone\r\n",
      "\u001b[?25hBuilding wheels for collected packages: wget\r\n",
      "  Building wheel for wget (setup.py) ... \u001b[?25l-\b \bdone\r\n",
      "\u001b[?25h  Created wheel for wget: filename=wget-3.2-py3-none-any.whl size=9675 sha256=205c74baa31a9374a7bad32e2a8a8a13b8915e84852e66dd97a6dd97d20b98a1\r\n",
      "  Stored in directory: /root/.cache/pip/wheels/a1/b6/7c/0e63e34eb06634181c63adacca38b79ff8f35c37e3c13e3c02\r\n",
      "Successfully built wget\r\n",
      "Installing collected packages: wget\r\n",
      "Successfully installed wget-3.2\r\n",
      "\u001b[33mWARNING: Running pip as the 'root' user can result in broken permissions and conflicting behaviour with the system package manager. It is recommended to use a virtual environment instead: https://pip.pypa.io/warnings/venv\u001b[0m\u001b[33m\r\n",
      "\u001b[0m"
     ]
    }
   ],
   "source": [
    "# these lines install modules cleantext and emoji. \n",
    "# Module cleantext is used to clean text data including: conversion of texts to lower case, removing unecessary panctuation and removal of stopwords.\n",
    "# module emoji is needed to remove emocations from text.\n",
    "!pip install cleantext \n",
    "!pip install emoji==1.7\n",
    "!pip install wget"
   ]
  },
  {
   "cell_type": "code",
   "execution_count": 2,
   "id": "0054b238",
   "metadata": {
    "execution": {
     "iopub.execute_input": "2022-12-03T11:53:53.817037Z",
     "iopub.status.busy": "2022-12-03T11:53:53.816087Z",
     "iopub.status.idle": "2022-12-03T11:54:01.111860Z",
     "shell.execute_reply": "2022-12-03T11:54:01.110177Z"
    },
    "papermill": {
     "duration": 7.313744,
     "end_time": "2022-12-03T11:54:01.114738",
     "exception": false,
     "start_time": "2022-12-03T11:53:53.800994",
     "status": "completed"
    },
    "tags": []
   },
   "outputs": [
    {
     "name": "stderr",
     "output_type": "stream",
     "text": [
      "[nltk_data] Downloading package vader_lexicon to\n",
      "[nltk_data]     /usr/share/nltk_data...\n",
      "[nltk_data]   Package vader_lexicon is already up-to-date!\n",
      "2022-12-03 11:54:00.900166: I tensorflow/core/profiler/lib/profiler_session.cc:131] Profiler session initializing.\n",
      "2022-12-03 11:54:00.900207: I tensorflow/core/profiler/lib/profiler_session.cc:146] Profiler session started.\n",
      "2022-12-03 11:54:00.962557: I tensorflow/core/profiler/internal/gpu/cupti_tracer.cc:1614] Profiler found 1 GPUs\n",
      "2022-12-03 11:54:01.005343: I tensorflow/core/profiler/lib/profiler_session.cc:164] Profiler session tear down.\n",
      "2022-12-03 11:54:01.005500: I tensorflow/core/profiler/internal/gpu/cupti_tracer.cc:1748] CUPTI activity buffer flushed\n"
     ]
    }
   ],
   "source": [
    "# here are all the modules used during this analysis. \n",
    "# you can use help() to get documentation of each, eg help('pandas') will give you documentation of pandas\n",
    "\n",
    "import pandas as pd\n",
    "import seaborn as sns\n",
    "import matplotlib.pyplot as plt\n",
    "import numpy as np\n",
    "import math\n",
    "import cleantext \n",
    "import emoji \n",
    "import tensorflow as tf\n",
    "import tensorflow_addons as tfa \n",
    "from tensorflow.keras import datasets, layers, models,Input,Model\n",
    "from keras.models import Sequential\n",
    "from keras.layers import Embedding, Bidirectional, Conv2D, BatchNormalization, MaxPooling2D, Flatten, LSTM, Dense, Lambda, Dropout,Reshape,GlobalAveragePooling1D\n",
    "import re\n",
    "import keras\n",
    "import shutil\n",
    "import string\n",
    "import random\n",
    "import requests\n",
    "from sklearn.cluster import KMeans\n",
    "from sklearn import metrics\n",
    "import wget\n",
    "import zipfile\n",
    "import os\n",
    "from sklearn.metrics import (confusion_matrix,accuracy_score)\n",
    "from sklearn.tree import DecisionTreeClassifier as DT\n",
    "from sklearn.svm import SVC \n",
    "from sklearn.ensemble import RandomForestClassifier as RF\n",
    "from sklearn.ensemble import GradientBoostingRegressor\n",
    "from sklearn.neighbors import KNeighborsClassifier as KNN\n",
    "from sklearn.model_selection import GridSearchCV\n",
    "from functools import reduce\n",
    "from sklearn.tree import DecisionTreeClassifier as DR\n",
    "from sklearn.ensemble import GradientBoostingClassifier as GBoost\n",
    "\n",
    "import nltk\n",
    "from nltk.sentiment.vader import SentimentIntensityAnalyzer\n",
    "nltk.download('vader_lexicon')\n",
    "from wordcloud import WordCloud,STOPWORDS, ImageColorGenerator\n",
    "import pickle\n",
    "from sklearn.decomposition import PCA\n",
    "# call backs \n",
    "tensorboard_callback = tf.keras.callbacks.TensorBoard(log_dir=\"./logs\")\n",
    "es_callback = keras.callbacks.EarlyStopping(monitor='val_loss',mode='min', verbose=1, patience=20)"
   ]
  },
  {
   "cell_type": "code",
   "execution_count": 3,
   "id": "01541f72",
   "metadata": {
    "execution": {
     "iopub.execute_input": "2022-12-03T11:54:01.145802Z",
     "iopub.status.busy": "2022-12-03T11:54:01.144563Z",
     "iopub.status.idle": "2022-12-03T11:54:01.150231Z",
     "shell.execute_reply": "2022-12-03T11:54:01.149379Z"
    },
    "papermill": {
     "duration": 0.022633,
     "end_time": "2022-12-03T11:54:01.152174",
     "exception": false,
     "start_time": "2022-12-03T11:54:01.129541",
     "status": "completed"
    },
    "tags": []
   },
   "outputs": [],
   "source": [
    "\n",
    "batch_size=64  #  Batch sizes to use\n",
    "epoch =200      # number of training ephochs\n",
    "sequence_length = 250   # here we can set arguments for text vectorization      \n",
    "max_tokens=20000"
   ]
  },
  {
   "cell_type": "markdown",
   "id": "8f49668f",
   "metadata": {
    "_cell_guid": "b595297d-1bd9-4e0a-ad92-2af42f692946",
    "_uuid": "5153f67e-02de-4a0b-b34f-83f580d08b1b",
    "papermill": {
     "duration": 0.013512,
     "end_time": "2022-12-03T11:54:01.179457",
     "exception": false,
     "start_time": "2022-12-03T11:54:01.165945",
     "status": "completed"
    },
    "tags": []
   },
   "source": [
    "# 4) Coronavirus tweets NLP - Text Classification"
   ]
  },
  {
   "cell_type": "markdown",
   "id": "77e19116",
   "metadata": {
    "_cell_guid": "c51b1148-adc0-40a4-8bc8-2f81654d8077",
    "_uuid": "2f9f5135-7f40-4446-a4f8-56b30cfc10a8",
    "papermill": {
     "duration": 0.0135,
     "end_time": "2022-12-03T11:54:01.206907",
     "exception": false,
     "start_time": "2022-12-03T11:54:01.193407",
     "status": "completed"
    },
    "tags": []
   },
   "source": [
    "The data consists details of about 44,955 tweets labeled as extremely positive, positive, extremely negative, negative and neutral sentiment score. The data was collected during the month of March 2020. Twitter usernames has been replaced with new unique IDs to de-identify users (MIGLANI, 2020). The data is reasonably balanced between positive sentiments (19,592) and negative sentiment (17031). This makes it a good data to benchmark performance of binary text classifiers."
   ]
  },
  {
   "cell_type": "markdown",
   "id": "9cd3f4e2",
   "metadata": {
    "_cell_guid": "a3457c3a-70c4-4621-a571-61138f2cafbe",
    "_uuid": "e091607c-93e2-4198-bda9-39fb47a29652",
    "papermill": {
     "duration": 0.013974,
     "end_time": "2022-12-03T11:54:01.234726",
     "exception": false,
     "start_time": "2022-12-03T11:54:01.220752",
     "status": "completed"
    },
    "tags": []
   },
   "source": [
    "The data was loaded and combined into a single dataframe"
   ]
  },
  {
   "cell_type": "code",
   "execution_count": 4,
   "id": "8ffda448",
   "metadata": {
    "_cell_guid": "df2b9962-ef5f-47ea-b38b-8ee3b9648330",
    "_uuid": "ebe91011-5e0c-49a7-b7a6-4a980eaa6ca9",
    "collapsed": false,
    "execution": {
     "iopub.execute_input": "2022-12-03T11:54:01.265371Z",
     "iopub.status.busy": "2022-12-03T11:54:01.265045Z",
     "iopub.status.idle": "2022-12-03T11:54:01.624721Z",
     "shell.execute_reply": "2022-12-03T11:54:01.623711Z"
    },
    "jupyter": {
     "outputs_hidden": false
    },
    "papermill": {
     "duration": 0.378202,
     "end_time": "2022-12-03T11:54:01.627690",
     "exception": false,
     "start_time": "2022-12-03T11:54:01.249488",
     "status": "completed"
    },
    "tags": []
   },
   "outputs": [
    {
     "name": "stderr",
     "output_type": "stream",
     "text": [
      "/opt/conda/lib/python3.7/site-packages/ipykernel_launcher.py:10: SettingWithCopyWarning: \n",
      "A value is trying to be set on a copy of a slice from a DataFrame.\n",
      "Try using .loc[row_indexer,col_indexer] = value instead\n",
      "\n",
      "See the caveats in the documentation: https://pandas.pydata.org/pandas-docs/stable/user_guide/indexing.html#returning-a-view-versus-a-copy\n",
      "  # Remove the CWD from sys.path while we load stuff.\n",
      "/opt/conda/lib/python3.7/site-packages/ipykernel_launcher.py:12: SettingWithCopyWarning: \n",
      "A value is trying to be set on a copy of a slice from a DataFrame.\n",
      "Try using .loc[row_indexer,col_indexer] = value instead\n",
      "\n",
      "See the caveats in the documentation: https://pandas.pydata.org/pandas-docs/stable/user_guide/indexing.html#returning-a-view-versus-a-copy\n",
      "  if sys.path[0] == \"\":\n"
     ]
    }
   ],
   "source": [
    "Bench4_1 = pd.read_csv(\"../input/covid-19-nlp-text-classification/Corona_NLP_train.csv\",encoding_errors= 'replace') # load train \n",
    "Bench4_1['data']='train'                                                                                            # add column called data to help index the data once it is combined with other data  \n",
    "Bench4_1=Bench4_1.iloc[:, 4:7].set_axis([\"text\",\"label\",\"data\"],axis=1)                                             # change column names\n",
    "Bench4_2 = pd.read_csv(\"../input/covid-19-nlp-text-classification/Corona_NLP_test.csv\",encoding_errors= 'replace')  # load test \n",
    "Bench4_2=Bench4_2.iloc[:, 4:6].set_axis([\"text\",\"label\"],axis=1)                                                    # change column names\n",
    "random.seed(100)                                                                                                    #  random seed\n",
    "test_ind=random.sample(range(len(Bench4_2)), k=round(len(Bench4_2) * 0.8))                                          # split testing data into twesting and validation here 80% will go to testing\n",
    "valid_ind=list(set(range(len(Bench4_2))).difference(test_ind))                                                      # the remaining 20% to VALIDATION \n",
    "test=Bench4_2.iloc[test_ind,]                                                                                       # select test rows \n",
    "test['data']='test'                                                                                                 # add column called data to help index the data once it is combined with other data  \n",
    "valid=Bench4_2.iloc[valid_ind,]                                                                                     # select validation \n",
    "valid['data']='valid'                                                                                               # add column called data to help index the data once it is combined with other data  \n",
    "Bench4=pd.concat([Bench4_1, test,valid], axis = 0,ignore_index=True)                                                # join the datasets \n",
    "Bench4=Bench4[Bench4[\"label\"]!=\"Neutral\"]                                                                           # drop neutral label\n",
    "#Bench4=Bench4.sample(n=2000)                                                                                        # sample data\n",
    "Bench4['Index']=range(0,Bench4.shape[0])                                                                            # change labels\n",
    "Bench4=Bench4.set_index('Index')"
   ]
  },
  {
   "cell_type": "markdown",
   "id": "2a3fae1b",
   "metadata": {
    "_cell_guid": "ebc647b3-a46d-4251-8552-5d8eba60333d",
    "_uuid": "7fe756e9-866e-47d3-af78-cf8b76aa4dba",
    "papermill": {
     "duration": 0.01439,
     "end_time": "2022-12-03T11:54:01.657515",
     "exception": false,
     "start_time": "2022-12-03T11:54:01.643125",
     "status": "completed"
    },
    "tags": []
   },
   "source": [
    "Convert labels to binary `Positive`, `Negative`"
   ]
  },
  {
   "cell_type": "code",
   "execution_count": 5,
   "id": "a1849341",
   "metadata": {
    "_cell_guid": "064fa488-ee9e-4d43-8a91-07fe31f2f918",
    "_uuid": "ad33f8d3-319e-4c79-b9b6-b99baf1ddab6",
    "collapsed": false,
    "execution": {
     "iopub.execute_input": "2022-12-03T11:54:01.686579Z",
     "iopub.status.busy": "2022-12-03T11:54:01.686264Z",
     "iopub.status.idle": "2022-12-03T11:54:01.701414Z",
     "shell.execute_reply": "2022-12-03T11:54:01.700438Z"
    },
    "jupyter": {
     "outputs_hidden": false
    },
    "papermill": {
     "duration": 0.032089,
     "end_time": "2022-12-03T11:54:01.703569",
     "exception": false,
     "start_time": "2022-12-03T11:54:01.671480",
     "status": "completed"
    },
    "tags": []
   },
   "outputs": [],
   "source": [
    "def to_binary_labels(labels):\n",
    "    if labels in [\"Negative\",\"Extremely Negative\"]:\n",
    "        x=\"Negative\"\n",
    "    else:\n",
    "        x=\"Positive\" \n",
    "    return x\n",
    "\n",
    "Bench4['label']=pd.Series (list(map(to_binary_labels,Bench4['label'])))"
   ]
  },
  {
   "cell_type": "markdown",
   "id": "b57795f8",
   "metadata": {
    "_cell_guid": "49c05120-62ef-43a1-a6fa-3e954b5a1947",
    "_uuid": "fbfd53e7-fe5d-4b44-a3e8-f8e3496ff94b",
    "papermill": {
     "duration": 0.014208,
     "end_time": "2022-12-03T11:54:01.732501",
     "exception": false,
     "start_time": "2022-12-03T11:54:01.718293",
     "status": "completed"
    },
    "tags": []
   },
   "source": [
    "Graphing article distribution across the two groups"
   ]
  },
  {
   "cell_type": "code",
   "execution_count": 6,
   "id": "ba5b19c1",
   "metadata": {
    "_cell_guid": "2a6315d2-2a9e-4d7b-a1a5-903894fbc95b",
    "_uuid": "2f96b657-0082-41eb-8aec-24d471e21841",
    "collapsed": false,
    "execution": {
     "iopub.execute_input": "2022-12-03T11:54:01.762858Z",
     "iopub.status.busy": "2022-12-03T11:54:01.761939Z",
     "iopub.status.idle": "2022-12-03T11:54:02.067956Z",
     "shell.execute_reply": "2022-12-03T11:54:02.067025Z"
    },
    "jupyter": {
     "outputs_hidden": false
    },
    "papermill": {
     "duration": 0.323114,
     "end_time": "2022-12-03T11:54:02.070081",
     "exception": false,
     "start_time": "2022-12-03T11:54:01.746967",
     "status": "completed"
    },
    "tags": []
   },
   "outputs": [
    {
     "data": {
      "image/png": "[encoded data removed]",
      "text/plain": [
       "<Figure size 936x504 with 1 Axes>"
      ]
     },
     "metadata": {
      "needs_background": "light"
     },
     "output_type": "display_data"
    }
   ],
   "source": [
    "figure,ax=plt.subplots(nrows=1,ncols=1,figsize=(13,7))\n",
    "sns.countplot(x='label',data=Bench4,ax=ax,order=Bench4.groupby('label').size().sort_values().index[::-1])\n",
    "for p, label in zip(ax.patches, Bench4['label'].value_counts().index):\n",
    "    ax.annotate(p.get_height(), (p.get_x()+0.25, p.get_height()+20))\n",
    "    ax.set_xlabel(\"labels\")\n",
    "    ax.set_ylabel(\"Number of articles\")\n",
    "    ax.set_title('Fake news type distribution')\n",
    "plt.savefig('tweetsdist.png')"
   ]
  },
  {
   "cell_type": "markdown",
   "id": "ec031ce6",
   "metadata": {
    "_cell_guid": "0c1eca3e-f3ef-4c1f-8f98-d46505ae4252",
    "_uuid": "29d015ac-e1af-4371-9eae-975b9fc05103",
    "papermill": {
     "duration": 0.013938,
     "end_time": "2022-12-03T11:54:02.098783",
     "exception": false,
     "start_time": "2022-12-03T11:54:02.084845",
     "status": "completed"
    },
    "tags": []
   },
   "source": [
    "Removing emojis and emocations"
   ]
  },
  {
   "cell_type": "code",
   "execution_count": 7,
   "id": "75b76947",
   "metadata": {
    "execution": {
     "iopub.execute_input": "2022-12-03T11:54:02.128080Z",
     "iopub.status.busy": "2022-12-03T11:54:02.127790Z",
     "iopub.status.idle": "2022-12-03T11:54:02.132129Z",
     "shell.execute_reply": "2022-12-03T11:54:02.131176Z"
    },
    "papermill": {
     "duration": 0.02132,
     "end_time": "2022-12-03T11:54:02.134144",
     "exception": false,
     "start_time": "2022-12-03T11:54:02.112824",
     "status": "completed"
    },
    "tags": []
   },
   "outputs": [],
   "source": [
    "# remove emojis\n",
    "def remove_emoji(string):\n",
    "    return emoji.get_emoji_regexp().sub(u'', string)"
   ]
  },
  {
   "cell_type": "code",
   "execution_count": 8,
   "id": "1dc24e0e",
   "metadata": {
    "_cell_guid": "8e3a7afa-7f94-4baa-81f0-86df9945d87c",
    "_uuid": "8282588f-f873-4be3-974f-9ec40acfc874",
    "collapsed": false,
    "execution": {
     "iopub.execute_input": "2022-12-03T11:54:02.163580Z",
     "iopub.status.busy": "2022-12-03T11:54:02.163254Z",
     "iopub.status.idle": "2022-12-03T11:54:39.084693Z",
     "shell.execute_reply": "2022-12-03T11:54:39.083662Z"
    },
    "jupyter": {
     "outputs_hidden": false
    },
    "papermill": {
     "duration": 36.93915,
     "end_time": "2022-12-03T11:54:39.087475",
     "exception": false,
     "start_time": "2022-12-03T11:54:02.148325",
     "status": "completed"
    },
    "tags": []
   },
   "outputs": [
    {
     "name": "stderr",
     "output_type": "stream",
     "text": [
      "/opt/conda/lib/python3.7/site-packages/ipykernel_launcher.py:3: DeprecationWarning: 'emoji.get_emoji_regexp()' is deprecated and will be removed in version 2.0.0. If you want to remove emoji from a string, consider the method emoji.replace_emoji(str, replace='').\n",
      "To hide this warning, pin/downgrade the package to 'emoji~=1.6.3'\n",
      "  This is separate from the ipykernel package so we can avoid doing imports until\n"
     ]
    }
   ],
   "source": [
    "Bench4['text1']=Bench4['text'].apply(remove_emoji)"
   ]
  },
  {
   "cell_type": "markdown",
   "id": "f1ab8fff",
   "metadata": {
    "_cell_guid": "0d53d2e8-4216-4cc4-9a6f-c2fd87bd484c",
    "_uuid": "24febe2a-be0d-4a80-be85-9e243ad9a6d2",
    "papermill": {
     "duration": 0.014333,
     "end_time": "2022-12-03T11:54:39.116993",
     "exception": false,
     "start_time": "2022-12-03T11:54:39.102660",
     "status": "completed"
    },
    "tags": []
   },
   "source": [
    "Removing unicode characters"
   ]
  },
  {
   "cell_type": "code",
   "execution_count": 9,
   "id": "89be14f6",
   "metadata": {
    "_cell_guid": "33b79b5c-2ace-47b0-82b8-a32481266d05",
    "_uuid": "37ae7fe3-0c3e-4489-a281-0dad1ca6828c",
    "collapsed": false,
    "execution": {
     "iopub.execute_input": "2022-12-03T11:54:39.146638Z",
     "iopub.status.busy": "2022-12-03T11:54:39.146331Z",
     "iopub.status.idle": "2022-12-03T11:54:39.411400Z",
     "shell.execute_reply": "2022-12-03T11:54:39.410500Z"
    },
    "jupyter": {
     "outputs_hidden": false
    },
    "papermill": {
     "duration": 0.282314,
     "end_time": "2022-12-03T11:54:39.413563",
     "exception": false,
     "start_time": "2022-12-03T11:54:39.131249",
     "status": "completed"
    },
    "tags": []
   },
   "outputs": [],
   "source": [
    "text1=[]\n",
    "for j in range(Bench4.shape[0]):\n",
    "    text1.append(Bench4[\"text1\"][j].replace(\"’\",\"'\"))\n",
    "Bench4[\"text1\"]=pd.Series (text1)"
   ]
  },
  {
   "cell_type": "code",
   "execution_count": 10,
   "id": "8af35e5c",
   "metadata": {
    "execution": {
     "iopub.execute_input": "2022-12-03T11:54:39.444215Z",
     "iopub.status.busy": "2022-12-03T11:54:39.443895Z",
     "iopub.status.idle": "2022-12-03T11:54:40.735577Z",
     "shell.execute_reply": "2022-12-03T11:54:40.734598Z"
    },
    "papermill": {
     "duration": 1.309817,
     "end_time": "2022-12-03T11:54:40.738214",
     "exception": false,
     "start_time": "2022-12-03T11:54:39.428397",
     "status": "completed"
    },
    "tags": []
   },
   "outputs": [],
   "source": [
    "# here we are getting the table to python in order to do the replacement.\n",
    "\n",
    "strange=pd.read_html(requests.get('https://lhncbc.nlm.nih.gov/LSG/Projects/lvg/current/docs/designDoc/UDF/unicode/DefaultTables/symbolTable.html').content)[-1] #getting the webpage with the table\n",
    "\n",
    "strange=strange.append(pd.DataFrame({'Unicode':[\"U+302D\"],      #  cast the table into a dataframe\n",
    "              'Mapped String':[\"...\"],\n",
    "              \"Char\":[\"…\"],\n",
    "              'Unicode Name':[\"THREE DOTS\"]}),ignore_index=True) \n",
    "s_n=len(strange)\n",
    "strange=strange.drop(list(strange[\"Mapped String\"]).index(\"'\"))"
   ]
  },
  {
   "cell_type": "code",
   "execution_count": 11,
   "id": "ab400915",
   "metadata": {
    "_cell_guid": "92e39ae2-5b5f-4f6c-b297-4702c33056a3",
    "_uuid": "5a6ec08c-5469-4e59-bf2c-0fea6e8d78c0",
    "collapsed": false,
    "execution": {
     "iopub.execute_input": "2022-12-03T11:54:40.768759Z",
     "iopub.status.busy": "2022-12-03T11:54:40.768453Z",
     "iopub.status.idle": "2022-12-03T12:21:54.821935Z",
     "shell.execute_reply": "2022-12-03T12:21:54.820907Z"
    },
    "jupyter": {
     "outputs_hidden": false
    },
    "papermill": {
     "duration": 1634.071511,
     "end_time": "2022-12-03T12:21:54.824756",
     "exception": false,
     "start_time": "2022-12-03T11:54:40.753245",
     "status": "completed"
    },
    "tags": []
   },
   "outputs": [],
   "source": [
    "for j in range(Bench4.shape[0]):\n",
    "    for i in [x for x in range(s_n) if x != 2]:\n",
    "        Bench4[\"text1\"][j]=Bench4[\"text1\"][j].replace(strange[\"Char\"][i],str(strange[\"Mapped String\"][i]))"
   ]
  },
  {
   "cell_type": "markdown",
   "id": "26796954",
   "metadata": {
    "_cell_guid": "94dc299a-92b2-47a6-b6be-6252267f22e5",
    "_uuid": "2df6a0fd-4f89-4b21-9f69-6967dc9137cf",
    "papermill": {
     "duration": 0.01438,
     "end_time": "2022-12-03T12:21:54.854539",
     "exception": false,
     "start_time": "2022-12-03T12:21:54.840159",
     "status": "completed"
    },
    "tags": []
   },
   "source": [
    "Next the labels were converted into two class dummy variables because neural networks won't allow character strings.This means because we have two classes, in this order postive,Negative. label [1 0] would mean postive while [0 1] would mean Negative. Here is a example using the first row."
   ]
  },
  {
   "cell_type": "code",
   "execution_count": 12,
   "id": "262721ee",
   "metadata": {
    "execution": {
     "iopub.execute_input": "2022-12-03T12:21:54.884680Z",
     "iopub.status.busy": "2022-12-03T12:21:54.883806Z",
     "iopub.status.idle": "2022-12-03T12:21:54.891767Z",
     "shell.execute_reply": "2022-12-03T12:21:54.890940Z"
    },
    "papermill": {
     "duration": 0.025085,
     "end_time": "2022-12-03T12:21:54.893834",
     "exception": false,
     "start_time": "2022-12-03T12:21:54.868749",
     "status": "completed"
    },
    "tags": []
   },
   "outputs": [],
   "source": [
    "def my_clean(text):\n",
    "    try:\n",
    "        x=cleantext.clean(text,clean_all= False, # Execute all cleaning operations\n",
    "                           extra_spaces=True ,  # Remove extra white spaces \n",
    "                           stemming=False , # Stem the words\n",
    "                           stopwords=False ,# Remove stop words\n",
    "                           lowercase=True ,# Convert to lowercase\n",
    "                           numbers=False ,# Remove all digits \n",
    "                           punct=False ,# Remove all punctuations\n",
    "                           reg= \"\", # Remove parts of text based on regex\n",
    "                           reg_replace='', # String to replace the regex used in reg\n",
    "                           stp_lang='english')  # Language for stop words\n",
    "    except BaseException as e:\n",
    "        x=\"\"\n",
    "    return x\n",
    "\n",
    "def my_clean1(text): \n",
    "    try:\n",
    "        x=cleantext.clean(text,clean_all= False, # Execute all cleaning operations\n",
    "                           extra_spaces=True ,  # Remove extra white spaces \n",
    "                           stemming=True , # Stem the words\n",
    "                           stopwords=True ,# Remove stop words\n",
    "                           lowercase=True ,# Convert to lowercase\n",
    "                           numbers=True ,# Remove all digits \n",
    "                           punct=True ,# Remove all punctuations\n",
    "                           reg= '\\n', # Remove parts of text based on regex\n",
    "                           reg_replace='', # String to replace the regex used in reg\n",
    "                           stp_lang='english')  # Language for stop words\n",
    "    except BaseException as e:\n",
    "        x=\"\"\n",
    "    return x"
   ]
  },
  {
   "cell_type": "code",
   "execution_count": 13,
   "id": "668b0382",
   "metadata": {
    "_cell_guid": "d54d0df0-cba3-4db7-b3aa-ccbc0e81a9b8",
    "_uuid": "38397f2f-94a5-47c6-80c5-2c51804095af",
    "collapsed": false,
    "execution": {
     "iopub.execute_input": "2022-12-03T12:21:54.924294Z",
     "iopub.status.busy": "2022-12-03T12:21:54.923447Z",
     "iopub.status.idle": "2022-12-03T12:22:36.331707Z",
     "shell.execute_reply": "2022-12-03T12:22:36.330676Z"
    },
    "jupyter": {
     "outputs_hidden": false
    },
    "papermill": {
     "duration": 41.426186,
     "end_time": "2022-12-03T12:22:36.334420",
     "exception": false,
     "start_time": "2022-12-03T12:21:54.908234",
     "status": "completed"
    },
    "tags": []
   },
   "outputs": [],
   "source": [
    "Bench4['article']=Bench4['text1'].apply(my_clean) # apply cleaning\n",
    "texts=Bench4['article'].apply(my_clean1)"
   ]
  },
  {
   "cell_type": "code",
   "execution_count": 14,
   "id": "7f30d087",
   "metadata": {
    "_cell_guid": "7f15d28e-8b31-4c7b-847a-2a573ac60037",
    "_uuid": "5655e251-e12a-4dd8-b0cf-17961661e079",
    "collapsed": false,
    "execution": {
     "iopub.execute_input": "2022-12-03T12:22:36.365510Z",
     "iopub.status.busy": "2022-12-03T12:22:36.365176Z",
     "iopub.status.idle": "2022-12-03T12:22:36.376177Z",
     "shell.execute_reply": "2022-12-03T12:22:36.374532Z"
    },
    "jupyter": {
     "outputs_hidden": false
    },
    "papermill": {
     "duration": 0.029158,
     "end_time": "2022-12-03T12:22:36.378800",
     "exception": false,
     "start_time": "2022-12-03T12:22:36.349642",
     "status": "completed"
    },
    "tags": []
   },
   "outputs": [
    {
     "name": "stdout",
     "output_type": "stream",
     "text": [
      "[0 1] Positive\n",
      "[0 1] Positive\n"
     ]
    }
   ],
   "source": [
    "leb=pd.get_dummies(Bench4['label']).values\n",
    "print(leb[0],Bench4['label'][0])\n",
    "print(leb[1],Bench4['label'][1])"
   ]
  },
  {
   "cell_type": "markdown",
   "id": "8324640b",
   "metadata": {
    "_cell_guid": "d8ad0963-0b9c-4937-a453-d1c72a317d56",
    "_uuid": "c0efa9f6-b5b0-4693-8440-5b60012dc30a",
    "papermill": {
     "duration": 0.014099,
     "end_time": "2022-12-03T12:22:36.407550",
     "exception": false,
     "start_time": "2022-12-03T12:22:36.393451",
     "status": "completed"
    },
    "tags": []
   },
   "source": [
    "The data downloaded had already been split into train, test,Valid so we here we subset each from the data we have subset."
   ]
  },
  {
   "cell_type": "code",
   "execution_count": 15,
   "id": "e54a2487",
   "metadata": {
    "_cell_guid": "23a46610-8994-4f42-9b3f-1b95f33b6d02",
    "_uuid": "56e1eaed-ff02-4a49-b112-a59758f31d8a",
    "collapsed": false,
    "execution": {
     "iopub.execute_input": "2022-12-03T12:22:36.438032Z",
     "iopub.status.busy": "2022-12-03T12:22:36.437259Z",
     "iopub.status.idle": "2022-12-03T12:22:36.457116Z",
     "shell.execute_reply": "2022-12-03T12:22:36.456254Z"
    },
    "jupyter": {
     "outputs_hidden": false
    },
    "papermill": {
     "duration": 0.037,
     "end_time": "2022-12-03T12:22:36.459051",
     "exception": false,
     "start_time": "2022-12-03T12:22:36.422051",
     "status": "completed"
    },
    "tags": []
   },
   "outputs": [],
   "source": [
    "train=Bench4[Bench4[\"data\"]==\"train\"]\n",
    "test=Bench4[Bench4[\"data\"]==\"test\"]\n",
    "valid=Bench4[Bench4[\"data\"]==\"valid\"]"
   ]
  },
  {
   "cell_type": "code",
   "execution_count": 16,
   "id": "7f3de7c5",
   "metadata": {
    "_cell_guid": "abf31e74-039d-4b56-9551-b2de39ac0d59",
    "_uuid": "fa78f9b5-aa7e-4e28-abc4-e288125c2e06",
    "collapsed": false,
    "execution": {
     "iopub.execute_input": "2022-12-03T12:22:36.489448Z",
     "iopub.status.busy": "2022-12-03T12:22:36.488488Z",
     "iopub.status.idle": "2022-12-03T12:22:36.499757Z",
     "shell.execute_reply": "2022-12-03T12:22:36.498170Z"
    },
    "jupyter": {
     "outputs_hidden": false
    },
    "papermill": {
     "duration": 0.028365,
     "end_time": "2022-12-03T12:22:36.501768",
     "exception": false,
     "start_time": "2022-12-03T12:22:36.473403",
     "status": "completed"
    },
    "tags": []
   },
   "outputs": [
    {
     "name": "stdout",
     "output_type": "stream",
     "text": [
      "---------training breakdown-----------\n",
      "\n",
      "Positive    18046\n",
      "Negative    15398\n",
      "Name: label, dtype: int64\n",
      "\n",
      "---------testing breakdown-----------\n",
      "\n",
      "Negative    1301\n",
      "Positive    1228\n",
      "Name: label, dtype: int64\n",
      "\n",
      "---------validation breakdown-------\n",
      "Negative    332\n",
      "Positive    318\n",
      "Name: label, dtype: int64\n"
     ]
    }
   ],
   "source": [
    "print(\"---------training breakdown-----------\")\n",
    "print()\n",
    "print(train.label.value_counts())\n",
    "print()\n",
    "print(\"---------testing breakdown-----------\")\n",
    "print()\n",
    "print(test.label.value_counts())\n",
    "print()\n",
    "print(\"---------validation breakdown-------\")\n",
    "print(valid.label.value_counts())"
   ]
  },
  {
   "cell_type": "markdown",
   "id": "3e910f9f",
   "metadata": {
    "_cell_guid": "73fde9fc-2e76-4303-a4c8-f8558f90f93b",
    "_uuid": "c2db11a9-1d12-4f86-94bf-ab582be7d02c",
    "papermill": {
     "duration": 0.014861,
     "end_time": "2022-12-03T12:22:36.531095",
     "exception": false,
     "start_time": "2022-12-03T12:22:36.516234",
     "status": "completed"
    },
    "tags": []
   },
   "source": [
    "converting the data into tensorflow dataset to take advantage of these features."
   ]
  },
  {
   "cell_type": "code",
   "execution_count": 17,
   "id": "b5ea8ea1",
   "metadata": {
    "_cell_guid": "f0e62dae-2c28-40e2-9c33-6d168efa1f70",
    "_uuid": "e38c3444-1532-493d-ac68-36c10184c6ee",
    "collapsed": false,
    "execution": {
     "iopub.execute_input": "2022-12-03T12:22:36.561303Z",
     "iopub.status.busy": "2022-12-03T12:22:36.560523Z",
     "iopub.status.idle": "2022-12-03T12:22:40.374679Z",
     "shell.execute_reply": "2022-12-03T12:22:40.373701Z"
    },
    "jupyter": {
     "outputs_hidden": false
    },
    "papermill": {
     "duration": 3.831683,
     "end_time": "2022-12-03T12:22:40.377057",
     "exception": false,
     "start_time": "2022-12-03T12:22:36.545374",
     "status": "completed"
    },
    "tags": []
   },
   "outputs": [
    {
     "name": "stderr",
     "output_type": "stream",
     "text": [
      "2022-12-03 12:22:36.724545: I tensorflow/stream_executor/cuda/cuda_gpu_executor.cc:937] successful NUMA node read from SysFS had negative value (-1), but there must be at least one NUMA node, so returning NUMA node zero\n",
      "2022-12-03 12:22:36.817008: I tensorflow/stream_executor/cuda/cuda_gpu_executor.cc:937] successful NUMA node read from SysFS had negative value (-1), but there must be at least one NUMA node, so returning NUMA node zero\n",
      "2022-12-03 12:22:36.817766: I tensorflow/stream_executor/cuda/cuda_gpu_executor.cc:937] successful NUMA node read from SysFS had negative value (-1), but there must be at least one NUMA node, so returning NUMA node zero\n",
      "2022-12-03 12:22:36.819877: I tensorflow/core/platform/cpu_feature_guard.cc:142] This TensorFlow binary is optimized with oneAPI Deep Neural Network Library (oneDNN) to use the following CPU instructions in performance-critical operations:  AVX2 AVX512F FMA\n",
      "To enable them in other operations, rebuild TensorFlow with the appropriate compiler flags.\n",
      "2022-12-03 12:22:36.820244: I tensorflow/stream_executor/cuda/cuda_gpu_executor.cc:937] successful NUMA node read from SysFS had negative value (-1), but there must be at least one NUMA node, so returning NUMA node zero\n",
      "2022-12-03 12:22:36.820926: I tensorflow/stream_executor/cuda/cuda_gpu_executor.cc:937] successful NUMA node read from SysFS had negative value (-1), but there must be at least one NUMA node, so returning NUMA node zero\n",
      "2022-12-03 12:22:36.821560: I tensorflow/stream_executor/cuda/cuda_gpu_executor.cc:937] successful NUMA node read from SysFS had negative value (-1), but there must be at least one NUMA node, so returning NUMA node zero\n",
      "2022-12-03 12:22:39.000896: I tensorflow/stream_executor/cuda/cuda_gpu_executor.cc:937] successful NUMA node read from SysFS had negative value (-1), but there must be at least one NUMA node, so returning NUMA node zero\n",
      "2022-12-03 12:22:39.001758: I tensorflow/stream_executor/cuda/cuda_gpu_executor.cc:937] successful NUMA node read from SysFS had negative value (-1), but there must be at least one NUMA node, so returning NUMA node zero\n",
      "2022-12-03 12:22:39.002500: I tensorflow/stream_executor/cuda/cuda_gpu_executor.cc:937] successful NUMA node read from SysFS had negative value (-1), but there must be at least one NUMA node, so returning NUMA node zero\n",
      "2022-12-03 12:22:39.003155: I tensorflow/core/common_runtime/gpu/gpu_device.cc:1510] Created device /job:localhost/replica:0/task:0/device:GPU:0 with 15401 MB memory:  -> device: 0, name: Tesla P100-PCIE-16GB, pci bus id: 0000:00:04.0, compute capability: 6.0\n"
     ]
    }
   ],
   "source": [
    "train = tf.data.Dataset.from_tensor_slices((list(train[\"article\"]),list(pd.get_dummies(train['label']).values)))\n",
    "test = tf.data.Dataset.from_tensor_slices((list(test[\"article\"]),list(pd.get_dummies(test['label']).values)))\n",
    "valid = tf.data.Dataset.from_tensor_slices((list(valid[\"article\"]),list(pd.get_dummies(valid['label']).values)))"
   ]
  },
  {
   "cell_type": "code",
   "execution_count": 18,
   "id": "c08ad9d7",
   "metadata": {
    "_cell_guid": "db32c702-9604-4711-bfd6-3d77402d2c8e",
    "_uuid": "063ddfd9-ba44-4a4b-9dfb-d4bc56c08178",
    "collapsed": false,
    "execution": {
     "iopub.execute_input": "2022-12-03T12:22:40.407555Z",
     "iopub.status.busy": "2022-12-03T12:22:40.407245Z",
     "iopub.status.idle": "2022-12-03T12:22:40.414986Z",
     "shell.execute_reply": "2022-12-03T12:22:40.414068Z"
    },
    "jupyter": {
     "outputs_hidden": false
    },
    "papermill": {
     "duration": 0.025004,
     "end_time": "2022-12-03T12:22:40.416998",
     "exception": false,
     "start_time": "2022-12-03T12:22:40.391994",
     "status": "completed"
    },
    "tags": []
   },
   "outputs": [],
   "source": [
    "train= train.batch(batch_size=batch_size)\n",
    "test= test.batch(batch_size=batch_size)\n",
    "valid= valid.batch(batch_size=batch_size)"
   ]
  },
  {
   "cell_type": "code",
   "execution_count": 19,
   "id": "ee6935b4",
   "metadata": {
    "_cell_guid": "c0bebd60-b10f-4065-a279-361937787848",
    "_uuid": "e93c2abc-0a8c-4b09-b8a2-e9a3ab8f3194",
    "collapsed": false,
    "execution": {
     "iopub.execute_input": "2022-12-03T12:22:40.447785Z",
     "iopub.status.busy": "2022-12-03T12:22:40.447506Z",
     "iopub.status.idle": "2022-12-03T12:22:40.624600Z",
     "shell.execute_reply": "2022-12-03T12:22:40.623623Z"
    },
    "jupyter": {
     "outputs_hidden": false
    },
    "papermill": {
     "duration": 0.195342,
     "end_time": "2022-12-03T12:22:40.627370",
     "exception": false,
     "start_time": "2022-12-03T12:22:40.432028",
     "status": "completed"
    },
    "tags": []
   },
   "outputs": [
    {
     "name": "stderr",
     "output_type": "stream",
     "text": [
      "2022-12-03 12:22:40.475767: I tensorflow/compiler/mlir/mlir_graph_optimization_pass.cc:185] None of the MLIR Optimization Passes are enabled (registered 2)\n"
     ]
    }
   ],
   "source": [
    "tf.data.experimental.save(train, \"tweetstrain\")\n",
    "tf.data.experimental.save(test, \"tweetstrain\")\n",
    "tf.data.experimental.save(valid, \"tweetsvalid\")"
   ]
  },
  {
   "cell_type": "code",
   "execution_count": 20,
   "id": "52f4a5de",
   "metadata": {
    "_cell_guid": "cbe90011-4fe3-485e-a777-e1285979f784",
    "_uuid": "69546a13-a59a-40a6-9bf9-a568cf754e18",
    "collapsed": false,
    "execution": {
     "iopub.execute_input": "2022-12-03T12:22:40.659883Z",
     "iopub.status.busy": "2022-12-03T12:22:40.658279Z",
     "iopub.status.idle": "2022-12-03T12:22:41.849985Z",
     "shell.execute_reply": "2022-12-03T12:22:41.848984Z"
    },
    "jupyter": {
     "outputs_hidden": false
    },
    "papermill": {
     "duration": 1.209874,
     "end_time": "2022-12-03T12:22:41.852801",
     "exception": false,
     "start_time": "2022-12-03T12:22:40.642927",
     "status": "completed"
    },
    "tags": []
   },
   "outputs": [],
   "source": [
    "vectorize_layer = layers.TextVectorization(\n",
    "    max_tokens=max_tokens,\n",
    "    pad_to_max_tokens=True,\n",
    "    output_mode='int')\n",
    "\n",
    "train_article = train.map(lambda x, y: x)\n",
    "vectorize_layer.adapt(train_article)"
   ]
  },
  {
   "cell_type": "code",
   "execution_count": 21,
   "id": "b35ddbd4",
   "metadata": {
    "_cell_guid": "c9601fb0-08ca-499f-9ec5-287e09c78764",
    "_uuid": "c1e8d292-a4fb-45b0-9cef-691ea019c66e",
    "collapsed": false,
    "execution": {
     "iopub.execute_input": "2022-12-03T12:22:41.907899Z",
     "iopub.status.busy": "2022-12-03T12:22:41.906981Z",
     "iopub.status.idle": "2022-12-03T12:22:41.915473Z",
     "shell.execute_reply": "2022-12-03T12:22:41.914644Z"
    },
    "jupyter": {
     "outputs_hidden": false
    },
    "papermill": {
     "duration": 0.041026,
     "end_time": "2022-12-03T12:22:41.917553",
     "exception": false,
     "start_time": "2022-12-03T12:22:41.876527",
     "status": "completed"
    },
    "tags": []
   },
   "outputs": [],
   "source": [
    "def vectorize_articles(text, label):\n",
    "    text = tf.expand_dims(text, -1)\n",
    "    return vectorize_layer(text), label"
   ]
  },
  {
   "cell_type": "code",
   "execution_count": 22,
   "id": "57b79692",
   "metadata": {
    "execution": {
     "iopub.execute_input": "2022-12-03T12:22:41.947250Z",
     "iopub.status.busy": "2022-12-03T12:22:41.946967Z",
     "iopub.status.idle": "2022-12-03T12:22:41.987457Z",
     "shell.execute_reply": "2022-12-03T12:22:41.986551Z"
    },
    "papermill": {
     "duration": 0.057679,
     "end_time": "2022-12-03T12:22:41.989517",
     "exception": false,
     "start_time": "2022-12-03T12:22:41.931838",
     "status": "completed"
    },
    "tags": []
   },
   "outputs": [],
   "source": [
    "vocabularies = vectorize_layer.get_vocabulary()\n",
    "word_index = dict(zip(vocabularies, range(len(vocabularies))))"
   ]
  },
  {
   "cell_type": "markdown",
   "id": "f4a86fa5",
   "metadata": {
    "_cell_guid": "0efa3ba2-de17-433c-a6f8-64a34eded5b5",
    "_uuid": "36f21973-8025-47ca-8b06-88618e557346",
    "papermill": {
     "duration": 0.014438,
     "end_time": "2022-12-03T12:22:42.018459",
     "exception": false,
     "start_time": "2022-12-03T12:22:42.004021",
     "status": "completed"
    },
    "tags": []
   },
   "source": [
    "Text vectorizaton.It shows how the first article can be vectorized, into integers."
   ]
  },
  {
   "cell_type": "code",
   "execution_count": 23,
   "id": "3c310d26",
   "metadata": {
    "_cell_guid": "b6a800b7-24c8-4e5f-8121-abb57298a4a4",
    "_uuid": "d9c6ec5e-25a1-4e45-b2f7-e0121ccb1472",
    "collapsed": false,
    "execution": {
     "iopub.execute_input": "2022-12-03T12:22:42.048706Z",
     "iopub.status.busy": "2022-12-03T12:22:42.048430Z",
     "iopub.status.idle": "2022-12-03T12:22:42.109038Z",
     "shell.execute_reply": "2022-12-03T12:22:42.108067Z"
    },
    "jupyter": {
     "outputs_hidden": false
    },
    "papermill": {
     "duration": 0.078347,
     "end_time": "2022-12-03T12:22:42.111127",
     "exception": false,
     "start_time": "2022-12-03T12:22:42.032780",
     "status": "completed"
    },
    "tags": []
   },
   "outputs": [
    {
     "name": "stdout",
     "output_type": "stream",
     "text": [
      "Article:\n",
      "tf.Tensor(b'advice talk to your neighbours family to exchange phone numbers create contact list with phone numbers of neighbours schools employer chemist gp set up online shopping accounts if poss adequate supplies of regular meds but not over order', shape=(), dtype=string)\n",
      "Label:\n",
      "tf.Tensor([0 1], shape=(2,), dtype=uint8)\n",
      "After vectorization:\n",
      "(<tf.Tensor: shape=(1, 38), dtype=int64, numpy=\n",
      "array([[ 554,  955,    3,   34, 2621,  271,    3, 3109,  902, 1265,  996,\n",
      "         444,  438,   20,  902, 1265,    5, 2621, 1251, 4281, 3671, 5281,\n",
      "         524,   48,   57,   53, 2507,   50,    1, 3050,  189,    5, 1132,\n",
      "        3241,   49,   35,  109,  249]])>, <tf.Tensor: shape=(2,), dtype=uint8, numpy=array([0, 1], dtype=uint8)>)\n"
     ]
    },
    {
     "name": "stderr",
     "output_type": "stream",
     "text": [
      "2022-12-03 12:22:42.054303: W tensorflow/core/data/root_dataset.cc:167] Optimization loop failed: Cancelled: Operation was cancelled\n"
     ]
    }
   ],
   "source": [
    "article,label= next(iter(train))\n",
    "sample_article,sample_label = article[0],label[0]\n",
    "print(\"Article:\")\n",
    "print(sample_article)\n",
    "lb=[\"Reliable\",\"Fake\"]\n",
    "print(\"Label:\")\n",
    "print(sample_label)\n",
    "print(\"After vectorization:\")\n",
    "print(vectorize_articles(sample_article,sample_label))"
   ]
  },
  {
   "cell_type": "markdown",
   "id": "86c77f7b",
   "metadata": {
    "_cell_guid": "a06c6741-1dc7-4ccb-ab9c-83d711533258",
    "_uuid": "80e35d74-7edc-49ac-8dea-eaee5ee3e396",
    "papermill": {
     "duration": 0.014224,
     "end_time": "2022-12-03T12:22:42.139749",
     "exception": false,
     "start_time": "2022-12-03T12:22:42.125525",
     "status": "completed"
    },
    "tags": []
   },
   "source": [
    "Here we did more configuration practices for our data. these include, caching and prefetching"
   ]
  },
  {
   "cell_type": "code",
   "execution_count": 24,
   "id": "d3d8f8cb",
   "metadata": {
    "_cell_guid": "b4292e3d-d511-406e-b237-cd017d301acc",
    "_uuid": "c4c84c9b-5348-4d77-a271-615a6e4520f2",
    "collapsed": false,
    "execution": {
     "iopub.execute_input": "2022-12-03T12:22:42.170470Z",
     "iopub.status.busy": "2022-12-03T12:22:42.169844Z",
     "iopub.status.idle": "2022-12-03T12:22:42.291544Z",
     "shell.execute_reply": "2022-12-03T12:22:42.290689Z"
    },
    "jupyter": {
     "outputs_hidden": false
    },
    "papermill": {
     "duration": 0.139317,
     "end_time": "2022-12-03T12:22:42.293675",
     "exception": false,
     "start_time": "2022-12-03T12:22:42.154358",
     "status": "completed"
    },
    "tags": []
   },
   "outputs": [],
   "source": [
    "AUTOTUNE = tf.data.AUTOTUNE\n",
    "train = train.map(vectorize_articles).cache().prefetch(buffer_size=AUTOTUNE)\n",
    "valid = valid.map(vectorize_articles).cache().prefetch(buffer_size=AUTOTUNE)\n",
    "test = test.map(vectorize_articles).cache().prefetch(buffer_size=AUTOTUNE)"
   ]
  },
  {
   "cell_type": "code",
   "execution_count": 25,
   "id": "de18e5fb",
   "metadata": {
    "execution": {
     "iopub.execute_input": "2022-12-03T12:22:42.324922Z",
     "iopub.status.busy": "2022-12-03T12:22:42.324151Z",
     "iopub.status.idle": "2022-12-03T12:25:43.780722Z",
     "shell.execute_reply": "2022-12-03T12:25:43.779348Z"
    },
    "papermill": {
     "duration": 181.47462,
     "end_time": "2022-12-03T12:25:43.783453",
     "exception": false,
     "start_time": "2022-12-03T12:22:42.308833",
     "status": "completed"
    },
    "tags": []
   },
   "outputs": [
    {
     "name": "stdout",
     "output_type": "stream",
     "text": [
      "--2022-12-03 12:22:43--  http://nlp.stanford.edu/data/glove.6B.zip\r\n",
      "Resolving nlp.stanford.edu (nlp.stanford.edu)... 171.64.67.140\r\n",
      "Connecting to nlp.stanford.edu (nlp.stanford.edu)|171.64.67.140|:80... connected.\r\n",
      "HTTP request sent, awaiting response... 302 Found\r\n",
      "Location: https://nlp.stanford.edu/data/glove.6B.zip [following]\r\n",
      "--2022-12-03 12:22:43--  https://nlp.stanford.edu/data/glove.6B.zip\r\n",
      "Connecting to nlp.stanford.edu (nlp.stanford.edu)|171.64.67.140|:443... connected.\r\n",
      "HTTP request sent, awaiting response... 301 Moved Permanently\r\n",
      "Location: https://downloads.cs.stanford.edu/nlp/data/glove.6B.zip [following]\r\n",
      "--2022-12-03 12:22:43--  https://downloads.cs.stanford.edu/nlp/data/glove.6B.zip\r\n",
      "Resolving downloads.cs.stanford.edu (downloads.cs.stanford.edu)... 171.64.64.22\r\n",
      "Connecting to downloads.cs.stanford.edu (downloads.cs.stanford.edu)|171.64.64.22|:443... connected.\r\n",
      "HTTP request sent, awaiting response... 200 OK\r\n",
      "Length: 862182613 (822M) [application/zip]\r\n",
      "Saving to: ‘glove.6B.zip’\r\n",
      "\r\n",
      "glove.6B.zip        100%[===================>] 822.24M  5.01MB/s    in 2m 39s  \r\n",
      "\r\n",
      "2022-12-03 12:25:22 (5.18 MB/s) - ‘glove.6B.zip’ saved [862182613/862182613]\r\n",
      "\r\n"
     ]
    }
   ],
   "source": [
    "!wget http://nlp.stanford.edu/data/glove.6B.zip\n",
    "!unzip -q glove.6B.zip"
   ]
  },
  {
   "cell_type": "code",
   "execution_count": 26,
   "id": "a3f2d62b",
   "metadata": {
    "execution": {
     "iopub.execute_input": "2022-12-03T12:25:43.890227Z",
     "iopub.status.busy": "2022-12-03T12:25:43.889877Z",
     "iopub.status.idle": "2022-12-03T12:25:50.219498Z",
     "shell.execute_reply": "2022-12-03T12:25:50.218188Z"
    },
    "papermill": {
     "duration": 6.384933,
     "end_time": "2022-12-03T12:25:50.221601",
     "exception": false,
     "start_time": "2022-12-03T12:25:43.836668",
     "status": "completed"
    },
    "tags": []
   },
   "outputs": [
    {
     "name": "stdout",
     "output_type": "stream",
     "text": [
      "Found 400000 word vectors.\n"
     ]
    }
   ],
   "source": [
    "embeddings_index = {}\n",
    "with open(\"/kaggle/working/glove.6B.100d.txt\") as file:\n",
    "    for line in file:\n",
    "        word, coefs = line.split(maxsplit=1)\n",
    "        coefs = np.fromstring(coefs, \"f\", sep=\" \")\n",
    "        embeddings_index[word] = coefs\n",
    "\n",
    "print(\"Found %s word vectors.\" % len(embeddings_index))"
   ]
  },
  {
   "cell_type": "code",
   "execution_count": 27,
   "id": "40181eec",
   "metadata": {
    "execution": {
     "iopub.execute_input": "2022-12-03T12:25:50.331320Z",
     "iopub.status.busy": "2022-12-03T12:25:50.330430Z",
     "iopub.status.idle": "2022-12-03T12:25:50.376647Z",
     "shell.execute_reply": "2022-12-03T12:25:50.375386Z"
    },
    "papermill": {
     "duration": 0.10268,
     "end_time": "2022-12-03T12:25:50.378881",
     "exception": false,
     "start_time": "2022-12-03T12:25:50.276201",
     "status": "completed"
    },
    "tags": []
   },
   "outputs": [
    {
     "name": "stdout",
     "output_type": "stream",
     "text": [
      "Converted 15660 words (4340 misses)\n"
     ]
    }
   ],
   "source": [
    "embedding_dim=100\n",
    "hits = 0\n",
    "misses = 0\n",
    "\n",
    "# Prepare embedding matrix\n",
    "embed_mat = np.zeros((max_tokens + 1, embedding_dim))\n",
    "for word, i in word_index.items():\n",
    "    embedding_vector = embeddings_index.get(word)\n",
    "    if embedding_vector is not None:\n",
    "        # Words not found in embedding index will be all-zeros.\n",
    "        # This includes the representation for \"padding\" and \"OOV\"\n",
    "        embed_mat[i] = embedding_vector\n",
    "        hits += 1\n",
    "    else:\n",
    "        misses += 1\n",
    "print(\"Converted %d words (%d misses)\" % (hits, misses))"
   ]
  },
  {
   "cell_type": "markdown",
   "id": "169bdfdb",
   "metadata": {
    "_cell_guid": "487ea3f1-3e77-4816-a77d-344212aa9ba1",
    "_uuid": "2be07460-e15a-44f3-b048-2794c558da21",
    "papermill": {
     "duration": 0.053257,
     "end_time": "2022-12-03T12:25:50.541459",
     "exception": false,
     "start_time": "2022-12-03T12:25:50.488202",
     "status": "completed"
    },
    "tags": []
   },
   "source": [
    "Here the model layers were specified. this is just like on the original model.See explanation of the different on the links at the begging."
   ]
  },
  {
   "cell_type": "code",
   "execution_count": 28,
   "id": "4d48eab6",
   "metadata": {
    "execution": {
     "iopub.execute_input": "2022-12-03T12:25:50.649635Z",
     "iopub.status.busy": "2022-12-03T12:25:50.648922Z",
     "iopub.status.idle": "2022-12-03T12:25:51.140955Z",
     "shell.execute_reply": "2022-12-03T12:25:51.140000Z"
    },
    "papermill": {
     "duration": 0.547509,
     "end_time": "2022-12-03T12:25:51.143284",
     "exception": false,
     "start_time": "2022-12-03T12:25:50.595775",
     "status": "completed"
    },
    "tags": []
   },
   "outputs": [],
   "source": [
    "model4=Sequential(name=\"my_model\")\n",
    "model4.add(Input(shape=(None,), dtype=\"int32\",name=\"input_articles\"))\n",
    "model4.add(Embedding(max_tokens + 1,\n",
    "                    embedding_dim,embeddings_initializer=keras.initializers.Constant(embed_mat),\n",
    "                    trainable=False,\n",
    "                    name=\"embeddinglayer\"))\n",
    "model4.add(Dropout(0.2,name=\"dropout\"))\n",
    "model4.add(layers.Conv1D(8,5, activation='relu'))\n",
    "model4.add(Dropout(0.2,name=\"dropout1\"))\n",
    "model4.add(BatchNormalization(name=\"batchnormalization\"))\n",
    "model4.add(Bidirectional(LSTM(8),name=\"Bidirectional2\"))\n",
    "model4.add(Dropout(0.2,name=\"dropout2\"))\n",
    "model4.add(Dense(units=8,activation=\"relu\"))\n",
    "model4.add(Dropout(0.2,name=\"dropout3\"))\n",
    "model4.add(Dense(units=2, activation=\"softmax\"))"
   ]
  },
  {
   "cell_type": "markdown",
   "id": "2a9370f7",
   "metadata": {
    "_cell_guid": "54f63ab7-1811-4cca-9630-3310dad72597",
    "_uuid": "b416f477-8979-4ced-b74a-86d2432a9928",
    "papermill": {
     "duration": 0.05253,
     "end_time": "2022-12-03T12:25:51.249768",
     "exception": false,
     "start_time": "2022-12-03T12:25:51.197238",
     "status": "completed"
    },
    "tags": []
   },
   "source": [
    "Compile the model with the metrics Accuracy,sensitivity,specificity, and precision. also categorical cross entropy loss function."
   ]
  },
  {
   "cell_type": "code",
   "execution_count": 29,
   "id": "4b36c3ab",
   "metadata": {
    "_cell_guid": "f282a18c-7e94-4b37-be9d-b5745b0fb5a8",
    "_uuid": "0bde8cbe-be1d-45a7-9d16-72a16da3b329",
    "collapsed": false,
    "execution": {
     "iopub.execute_input": "2022-12-03T12:25:51.356091Z",
     "iopub.status.busy": "2022-12-03T12:25:51.355149Z",
     "iopub.status.idle": "2022-12-03T12:25:51.377696Z",
     "shell.execute_reply": "2022-12-03T12:25:51.377074Z"
    },
    "jupyter": {
     "outputs_hidden": false
    },
    "papermill": {
     "duration": 0.077839,
     "end_time": "2022-12-03T12:25:51.379567",
     "exception": false,
     "start_time": "2022-12-03T12:25:51.301728",
     "status": "completed"
    },
    "tags": []
   },
   "outputs": [],
   "source": [
    "model4.compile(\n",
    "  optimizer='adam',\n",
    "  loss=\"categorical_crossentropy\",\n",
    "  metrics=[\"accuracy\",\n",
    "           tf.keras.metrics.Recall(name=\"Sensitivity\",class_id=0),\n",
    "           tf.keras.metrics.Recall(name=\"Specificity\",class_id=1),\n",
    "           tf.keras.metrics.Precision(name=\"Precision\",class_id=0),\n",
    "          tfa.metrics.F1Score(num_classes=2, average=\"micro\")])"
   ]
  },
  {
   "cell_type": "markdown",
   "id": "2a2cea2d",
   "metadata": {
    "_cell_guid": "55880d71-3cbe-45e2-a263-c8c338ede1f4",
    "_uuid": "28de09ac-19b4-4e09-b5bd-6a7fda53009c",
    "papermill": {
     "duration": 0.053537,
     "end_time": "2022-12-03T12:25:51.485054",
     "exception": false,
     "start_time": "2022-12-03T12:25:51.431517",
     "status": "completed"
    },
    "tags": []
   },
   "source": [
    "visualizing fitting historyfitting the model"
   ]
  },
  {
   "cell_type": "code",
   "execution_count": 30,
   "id": "70c5a60a",
   "metadata": {
    "_cell_guid": "c9a42d68-077c-498f-8431-3fb51596a0ab",
    "_uuid": "848c6bea-0480-4370-bb78-372dcb0caa67",
    "collapsed": false,
    "execution": {
     "iopub.execute_input": "2022-12-03T12:25:51.592985Z",
     "iopub.status.busy": "2022-12-03T12:25:51.591437Z",
     "iopub.status.idle": "2022-12-03T12:41:38.818440Z",
     "shell.execute_reply": "2022-12-03T12:41:38.817561Z"
    },
    "jupyter": {
     "outputs_hidden": false
    },
    "papermill": {
     "duration": 947.28282,
     "end_time": "2022-12-03T12:41:38.820545",
     "exception": false,
     "start_time": "2022-12-03T12:25:51.537725",
     "status": "completed"
    },
    "tags": []
   },
   "outputs": [
    {
     "name": "stdout",
     "output_type": "stream",
     "text": [
      "Epoch 1/200\n"
     ]
    },
    {
     "name": "stderr",
     "output_type": "stream",
     "text": [
      "2022-12-03 12:25:57.838336: I tensorflow/stream_executor/cuda/cuda_dnn.cc:369] Loaded cuDNN version 8005\n"
     ]
    },
    {
     "name": "stdout",
     "output_type": "stream",
     "text": [
      "  1/523 [..............................] - ETA: 1:29:16 - loss: 0.7239 - accuracy: 0.4219 - Sensitivity: 0.9583 - Specificity: 0.0750 - Precision: 0.3833 - f1_score: 0.4186"
     ]
    },
    {
     "name": "stderr",
     "output_type": "stream",
     "text": [
      "2022-12-03 12:26:04.460750: I tensorflow/core/profiler/lib/profiler_session.cc:131] Profiler session initializing.\n",
      "2022-12-03 12:26:04.460802: I tensorflow/core/profiler/lib/profiler_session.cc:146] Profiler session started.\n"
     ]
    },
    {
     "name": "stdout",
     "output_type": "stream",
     "text": [
      "  2/523 [..............................] - ETA: 7:02 - loss: 0.7105 - accuracy: 0.4531 - Sensitivity: 0.9074 - Specificity: 0.1081 - Precision: 0.4261 - f1_score: 0.4514   "
     ]
    },
    {
     "name": "stderr",
     "output_type": "stream",
     "text": [
      "2022-12-03 12:26:04.922371: I tensorflow/core/profiler/lib/profiler_session.cc:66] Profiler session collecting data.\n",
      "2022-12-03 12:26:04.923636: I tensorflow/core/profiler/internal/gpu/cupti_tracer.cc:1748] CUPTI activity buffer flushed\n",
      "2022-12-03 12:26:05.061362: I tensorflow/core/profiler/internal/gpu/cupti_collector.cc:673]  GpuTracer has collected 1053 callback api events and 1013 activity events. \n",
      "2022-12-03 12:26:05.080203: I tensorflow/core/profiler/lib/profiler_session.cc:164] Profiler session tear down.\n",
      "2022-12-03 12:26:05.115949: I tensorflow/core/profiler/rpc/client/save_profile.cc:136] Creating directory: ./logs/train/plugins/profile/2022_12_03_12_26_05\n",
      "\n"
     ]
    },
    {
     "name": "stdout",
     "output_type": "stream",
     "text": [
      " 10/523 [..............................] - ETA: 1:08 - loss: 0.6979 - accuracy: 0.4812 - Sensitivity: 0.7508 - Specificity: 0.2202 - Precision: 0.4796 - f1_score: 0.4809"
     ]
    },
    {
     "name": "stderr",
     "output_type": "stream",
     "text": [
      "2022-12-03 12:26:05.134433: I tensorflow/core/profiler/rpc/client/save_profile.cc:142] Dumped gzipped tool data for trace.json.gz to ./logs/train/plugins/profile/2022_12_03_12_26_05/2a2423fb3122.trace.json.gz\n",
      "2022-12-03 12:26:05.170029: I tensorflow/core/profiler/rpc/client/save_profile.cc:136] Creating directory: ./logs/train/plugins/profile/2022_12_03_12_26_05\n",
      "\n",
      "2022-12-03 12:26:05.173791: I tensorflow/core/profiler/rpc/client/save_profile.cc:142] Dumped gzipped tool data for memory_profile.json.gz to ./logs/train/plugins/profile/2022_12_03_12_26_05/2a2423fb3122.memory_profile.json.gz\n",
      "2022-12-03 12:26:05.174968: I tensorflow/core/profiler/rpc/client/capture_profile.cc:251] Creating directory: ./logs/train/plugins/profile/2022_12_03_12_26_05\n",
      "Dumped tool data for xplane.pb to ./logs/train/plugins/profile/2022_12_03_12_26_05/2a2423fb3122.xplane.pb\n",
      "Dumped tool data for overview_page.pb to ./logs/train/plugins/profile/2022_12_03_12_26_05/2a2423fb3122.overview_page.pb\n",
      "Dumped tool data for input_pipeline.pb to ./logs/train/plugins/profile/2022_12_03_12_26_05/2a2423fb3122.input_pipeline.pb\n",
      "Dumped tool data for tensorflow_stats.pb to ./logs/train/plugins/profile/2022_12_03_12_26_05/2a2423fb3122.tensorflow_stats.pb\n",
      "Dumped tool data for kernel_stats.pb to ./logs/train/plugins/profile/2022_12_03_12_26_05/2a2423fb3122.kernel_stats.pb\n",
      "\n"
     ]
    },
    {
     "name": "stdout",
     "output_type": "stream",
     "text": [
      "523/523 [==============================] - 18s 15ms/step - loss: 0.6309 - accuracy: 0.6357 - Sensitivity: 0.5756 - Specificity: 0.6870 - Precision: 0.6108 - f1_score: 0.6357 - val_loss: 0.5769 - val_accuracy: 0.6951 - val_Sensitivity: 0.6979 - val_Specificity: 0.6922 - val_Precision: 0.7061 - val_f1_score: 0.6951\n",
      "Epoch 2/200\n",
      "523/523 [==============================] - 6s 11ms/step - loss: 0.5646 - accuracy: 0.7182 - Sensitivity: 0.6811 - Specificity: 0.7498 - Precision: 0.6990 - f1_score: 0.7182 - val_loss: 0.5368 - val_accuracy: 0.7343 - val_Sensitivity: 0.7548 - val_Specificity: 0.7125 - val_Precision: 0.7356 - val_f1_score: 0.7343\n",
      "Epoch 3/200\n",
      "523/523 [==============================] - 6s 11ms/step - loss: 0.5408 - accuracy: 0.7346 - Sensitivity: 0.7015 - Specificity: 0.7628 - Precision: 0.7162 - f1_score: 0.7346 - val_loss: 0.5404 - val_accuracy: 0.7232 - val_Sensitivity: 0.6072 - val_Specificity: 0.8461 - val_Precision: 0.8069 - val_f1_score: 0.7232\n",
      "Epoch 4/200\n",
      "523/523 [==============================] - 5s 10ms/step - loss: 0.5286 - accuracy: 0.7429 - Sensitivity: 0.7093 - Specificity: 0.7716 - Precision: 0.7261 - f1_score: 0.7429 - val_loss: 0.5160 - val_accuracy: 0.7454 - val_Sensitivity: 0.6679 - val_Specificity: 0.8274 - val_Precision: 0.8039 - val_f1_score: 0.7454\n",
      "Epoch 5/200\n",
      "523/523 [==============================] - 5s 10ms/step - loss: 0.5149 - accuracy: 0.7506 - Sensitivity: 0.7240 - Specificity: 0.7732 - Precision: 0.7315 - f1_score: 0.7506 - val_loss: 0.4984 - val_accuracy: 0.7588 - val_Sensitivity: 0.7540 - val_Specificity: 0.7638 - val_Precision: 0.7718 - val_f1_score: 0.7588\n",
      "Epoch 6/200\n",
      "523/523 [==============================] - 5s 10ms/step - loss: 0.5111 - accuracy: 0.7554 - Sensitivity: 0.7232 - Specificity: 0.7828 - Precision: 0.7396 - f1_score: 0.7554 - val_loss: 0.4946 - val_accuracy: 0.7639 - val_Sensitivity: 0.7648 - val_Specificity: 0.7630 - val_Precision: 0.7737 - val_f1_score: 0.7639\n",
      "Epoch 7/200\n",
      "523/523 [==============================] - 6s 11ms/step - loss: 0.5028 - accuracy: 0.7596 - Sensitivity: 0.7267 - Specificity: 0.7877 - Precision: 0.7449 - f1_score: 0.7596 - val_loss: 0.5054 - val_accuracy: 0.7513 - val_Sensitivity: 0.6556 - val_Specificity: 0.8526 - val_Precision: 0.8250 - val_f1_score: 0.7513\n",
      "Epoch 8/200\n",
      "523/523 [==============================] - 5s 10ms/step - loss: 0.4950 - accuracy: 0.7632 - Sensitivity: 0.7316 - Specificity: 0.7902 - Precision: 0.7485 - f1_score: 0.7632 - val_loss: 0.4851 - val_accuracy: 0.7679 - val_Sensitivity: 0.8263 - val_Specificity: 0.7060 - val_Precision: 0.7486 - val_f1_score: 0.7679\n",
      "Epoch 9/200\n",
      "523/523 [==============================] - 5s 10ms/step - loss: 0.4907 - accuracy: 0.7647 - Sensitivity: 0.7311 - Specificity: 0.7933 - Precision: 0.7511 - f1_score: 0.7647 - val_loss: 0.4806 - val_accuracy: 0.7794 - val_Sensitivity: 0.8332 - val_Specificity: 0.7223 - val_Precision: 0.7607 - val_f1_score: 0.7794\n",
      "Epoch 10/200\n",
      "523/523 [==============================] - 5s 10ms/step - loss: 0.4851 - accuracy: 0.7696 - Sensitivity: 0.7384 - Specificity: 0.7961 - Precision: 0.7555 - f1_score: 0.7696 - val_loss: 0.4686 - val_accuracy: 0.7845 - val_Sensitivity: 0.8417 - val_Specificity: 0.7239 - val_Precision: 0.7636 - val_f1_score: 0.7845\n",
      "Epoch 11/200\n",
      "523/523 [==============================] - 6s 12ms/step - loss: 0.4797 - accuracy: 0.7748 - Sensitivity: 0.7400 - Specificity: 0.8046 - Precision: 0.7636 - f1_score: 0.7748 - val_loss: 0.4683 - val_accuracy: 0.7857 - val_Sensitivity: 0.8132 - val_Specificity: 0.7565 - val_Precision: 0.7797 - val_f1_score: 0.7857\n",
      "Epoch 12/200\n",
      "523/523 [==============================] - 6s 11ms/step - loss: 0.4782 - accuracy: 0.7736 - Sensitivity: 0.7426 - Specificity: 0.8000 - Precision: 0.7601 - f1_score: 0.7736 - val_loss: 0.4710 - val_accuracy: 0.7802 - val_Sensitivity: 0.7702 - val_Specificity: 0.7907 - val_Precision: 0.7959 - val_f1_score: 0.7802\n",
      "Epoch 13/200\n",
      "523/523 [==============================] - 5s 10ms/step - loss: 0.4758 - accuracy: 0.7739 - Sensitivity: 0.7391 - Specificity: 0.8036 - Precision: 0.7625 - f1_score: 0.7739 - val_loss: 0.4672 - val_accuracy: 0.7960 - val_Sensitivity: 0.8178 - val_Specificity: 0.7728 - val_Precision: 0.7923 - val_f1_score: 0.7960\n",
      "Epoch 14/200\n",
      "523/523 [==============================] - 5s 10ms/step - loss: 0.4726 - accuracy: 0.7770 - Sensitivity: 0.7445 - Specificity: 0.8047 - Precision: 0.7648 - f1_score: 0.7770 - val_loss: 0.4521 - val_accuracy: 0.7916 - val_Sensitivity: 0.7809 - val_Specificity: 0.8029 - val_Precision: 0.8076 - val_f1_score: 0.7916\n",
      "Epoch 15/200\n",
      "523/523 [==============================] - 5s 10ms/step - loss: 0.4711 - accuracy: 0.7783 - Sensitivity: 0.7485 - Specificity: 0.8036 - Precision: 0.7648 - f1_score: 0.7783 - val_loss: 0.4516 - val_accuracy: 0.7952 - val_Sensitivity: 0.7955 - val_Specificity: 0.7948 - val_Precision: 0.8042 - val_f1_score: 0.7952\n",
      "Epoch 16/200\n",
      "523/523 [==============================] - 6s 11ms/step - loss: 0.4685 - accuracy: 0.7807 - Sensitivity: 0.7487 - Specificity: 0.8080 - Precision: 0.7689 - f1_score: 0.7807 - val_loss: 0.4557 - val_accuracy: 0.7912 - val_Sensitivity: 0.7617 - val_Specificity: 0.8225 - val_Precision: 0.8197 - val_f1_score: 0.7912\n",
      "Epoch 17/200\n",
      "523/523 [==============================] - 5s 10ms/step - loss: 0.4680 - accuracy: 0.7815 - Sensitivity: 0.7544 - Specificity: 0.8045 - Precision: 0.7671 - f1_score: 0.7815 - val_loss: 0.4525 - val_accuracy: 0.7968 - val_Sensitivity: 0.7855 - val_Specificity: 0.8086 - val_Precision: 0.8130 - val_f1_score: 0.7968\n",
      "Epoch 18/200\n",
      "523/523 [==============================] - 5s 10ms/step - loss: 0.4653 - accuracy: 0.7824 - Sensitivity: 0.7523 - Specificity: 0.8080 - Precision: 0.7698 - f1_score: 0.7824 - val_loss: 0.4500 - val_accuracy: 0.7968 - val_Sensitivity: 0.7948 - val_Specificity: 0.7989 - val_Precision: 0.8072 - val_f1_score: 0.7968\n",
      "Epoch 19/200\n",
      "523/523 [==============================] - 5s 10ms/step - loss: 0.4629 - accuracy: 0.7830 - Sensitivity: 0.7528 - Specificity: 0.8089 - Precision: 0.7707 - f1_score: 0.7830 - val_loss: 0.4511 - val_accuracy: 0.7920 - val_Sensitivity: 0.8009 - val_Specificity: 0.7826 - val_Precision: 0.7960 - val_f1_score: 0.7920\n",
      "Epoch 20/200\n",
      "523/523 [==============================] - 5s 10ms/step - loss: 0.4607 - accuracy: 0.7855 - Sensitivity: 0.7533 - Specificity: 0.8129 - Precision: 0.7745 - f1_score: 0.7855 - val_loss: 0.4447 - val_accuracy: 0.7999 - val_Sensitivity: 0.8248 - val_Specificity: 0.7736 - val_Precision: 0.7942 - val_f1_score: 0.7999\n",
      "Epoch 21/200\n",
      "523/523 [==============================] - 6s 11ms/step - loss: 0.4609 - accuracy: 0.7839 - Sensitivity: 0.7511 - Specificity: 0.8119 - Precision: 0.7731 - f1_score: 0.7839 - val_loss: 0.4507 - val_accuracy: 0.7940 - val_Sensitivity: 0.7733 - val_Specificity: 0.8160 - val_Precision: 0.8166 - val_f1_score: 0.7940\n",
      "Epoch 22/200\n",
      "523/523 [==============================] - 6s 11ms/step - loss: 0.4607 - accuracy: 0.7846 - Sensitivity: 0.7552 - Specificity: 0.8097 - Precision: 0.7720 - f1_score: 0.7846 - val_loss: 0.4549 - val_accuracy: 0.7888 - val_Sensitivity: 0.7617 - val_Specificity: 0.8176 - val_Precision: 0.8156 - val_f1_score: 0.7888\n",
      "Epoch 23/200\n",
      "523/523 [==============================] - 6s 11ms/step - loss: 0.4576 - accuracy: 0.7860 - Sensitivity: 0.7527 - Specificity: 0.8145 - Precision: 0.7759 - f1_score: 0.7860 - val_loss: 0.4452 - val_accuracy: 0.7904 - val_Sensitivity: 0.7471 - val_Specificity: 0.8363 - val_Precision: 0.8286 - val_f1_score: 0.7904\n",
      "Epoch 24/200\n",
      "523/523 [==============================] - 5s 10ms/step - loss: 0.4559 - accuracy: 0.7883 - Sensitivity: 0.7569 - Specificity: 0.8150 - Precision: 0.7774 - f1_score: 0.7883 - val_loss: 0.4483 - val_accuracy: 0.7928 - val_Sensitivity: 0.7694 - val_Specificity: 0.8176 - val_Precision: 0.8171 - val_f1_score: 0.7928\n",
      "Epoch 25/200\n",
      "523/523 [==============================] - 6s 11ms/step - loss: 0.4547 - accuracy: 0.7878 - Sensitivity: 0.7560 - Specificity: 0.8149 - Precision: 0.7771 - f1_score: 0.7878 - val_loss: 0.4427 - val_accuracy: 0.8142 - val_Sensitivity: 0.8286 - val_Specificity: 0.7989 - val_Precision: 0.8136 - val_f1_score: 0.8142\n",
      "Epoch 26/200\n",
      "523/523 [==============================] - 6s 11ms/step - loss: 0.4560 - accuracy: 0.7858 - Sensitivity: 0.7503 - Specificity: 0.8160 - Precision: 0.7768 - f1_score: 0.7858 - val_loss: 0.4398 - val_accuracy: 0.8055 - val_Sensitivity: 0.8248 - val_Specificity: 0.7850 - val_Precision: 0.8025 - val_f1_score: 0.8055\n",
      "Epoch 27/200\n",
      "523/523 [==============================] - 6s 11ms/step - loss: 0.4563 - accuracy: 0.7894 - Sensitivity: 0.7598 - Specificity: 0.8148 - Precision: 0.7778 - f1_score: 0.7894 - val_loss: 0.4481 - val_accuracy: 0.7829 - val_Sensitivity: 0.7264 - val_Specificity: 0.8428 - val_Precision: 0.8304 - val_f1_score: 0.7829\n",
      "Epoch 28/200\n",
      "523/523 [==============================] - 5s 10ms/step - loss: 0.4520 - accuracy: 0.7912 - Sensitivity: 0.7642 - Specificity: 0.8142 - Precision: 0.7782 - f1_score: 0.7912 - val_loss: 0.4302 - val_accuracy: 0.8098 - val_Sensitivity: 0.8470 - val_Specificity: 0.7704 - val_Precision: 0.7962 - val_f1_score: 0.8098\n",
      "Epoch 29/200\n",
      "523/523 [==============================] - 6s 11ms/step - loss: 0.4540 - accuracy: 0.7912 - Sensitivity: 0.7648 - Specificity: 0.8138 - Precision: 0.7780 - f1_score: 0.7912 - val_loss: 0.4354 - val_accuracy: 0.8019 - val_Sensitivity: 0.7971 - val_Specificity: 0.8070 - val_Precision: 0.8140 - val_f1_score: 0.8019\n",
      "Epoch 30/200\n",
      "523/523 [==============================] - 6s 11ms/step - loss: 0.4536 - accuracy: 0.7877 - Sensitivity: 0.7583 - Specificity: 0.8128 - Precision: 0.7756 - f1_score: 0.7877 - val_loss: 0.4354 - val_accuracy: 0.8082 - val_Sensitivity: 0.8332 - val_Specificity: 0.7818 - val_Precision: 0.8018 - val_f1_score: 0.8082\n",
      "Epoch 31/200\n",
      "523/523 [==============================] - 6s 11ms/step - loss: 0.4510 - accuracy: 0.7912 - Sensitivity: 0.7596 - Specificity: 0.8182 - Precision: 0.7810 - f1_score: 0.7912 - val_loss: 0.4354 - val_accuracy: 0.8019 - val_Sensitivity: 0.7756 - val_Specificity: 0.8298 - val_Precision: 0.8284 - val_f1_score: 0.8019\n",
      "Epoch 32/200\n",
      "523/523 [==============================] - 6s 11ms/step - loss: 0.4500 - accuracy: 0.7912 - Sensitivity: 0.7667 - Specificity: 0.8121 - Precision: 0.7768 - f1_score: 0.7912 - val_loss: 0.4369 - val_accuracy: 0.7995 - val_Sensitivity: 0.7671 - val_Specificity: 0.8339 - val_Precision: 0.8303 - val_f1_score: 0.7995\n",
      "Epoch 33/200\n",
      "523/523 [==============================] - 5s 10ms/step - loss: 0.4496 - accuracy: 0.7911 - Sensitivity: 0.7635 - Specificity: 0.8146 - Precision: 0.7785 - f1_score: 0.7911 - val_loss: 0.4353 - val_accuracy: 0.8023 - val_Sensitivity: 0.7663 - val_Specificity: 0.8404 - val_Precision: 0.8357 - val_f1_score: 0.8023\n",
      "Epoch 34/200\n",
      "523/523 [==============================] - 6s 11ms/step - loss: 0.4516 - accuracy: 0.7889 - Sensitivity: 0.7539 - Specificity: 0.8187 - Precision: 0.7802 - f1_score: 0.7889 - val_loss: 0.4311 - val_accuracy: 0.8118 - val_Sensitivity: 0.8232 - val_Specificity: 0.7997 - val_Precision: 0.8132 - val_f1_score: 0.8118\n",
      "Epoch 35/200\n",
      "523/523 [==============================] - 6s 12ms/step - loss: 0.4497 - accuracy: 0.7920 - Sensitivity: 0.7648 - Specificity: 0.8152 - Precision: 0.7794 - f1_score: 0.7920 - val_loss: 0.4333 - val_accuracy: 0.7999 - val_Sensitivity: 0.7702 - val_Specificity: 0.8314 - val_Precision: 0.8288 - val_f1_score: 0.7999\n",
      "Epoch 36/200\n",
      "523/523 [==============================] - 5s 10ms/step - loss: 0.4481 - accuracy: 0.7944 - Sensitivity: 0.7681 - Specificity: 0.8169 - Precision: 0.7816 - f1_score: 0.7944 - val_loss: 0.4289 - val_accuracy: 0.8106 - val_Sensitivity: 0.7932 - val_Specificity: 0.8290 - val_Precision: 0.8309 - val_f1_score: 0.8106\n",
      "Epoch 37/200\n",
      "523/523 [==============================] - 5s 10ms/step - loss: 0.4463 - accuracy: 0.7971 - Sensitivity: 0.7743 - Specificity: 0.8166 - Precision: 0.7827 - f1_score: 0.7971 - val_loss: 0.4270 - val_accuracy: 0.8094 - val_Sensitivity: 0.7955 - val_Specificity: 0.8241 - val_Precision: 0.8273 - val_f1_score: 0.8094\n",
      "Epoch 38/200\n",
      "523/523 [==============================] - 5s 10ms/step - loss: 0.4487 - accuracy: 0.7914 - Sensitivity: 0.7657 - Specificity: 0.8134 - Precision: 0.7778 - f1_score: 0.7914 - val_loss: 0.4283 - val_accuracy: 0.8039 - val_Sensitivity: 0.7733 - val_Specificity: 0.8363 - val_Precision: 0.8335 - val_f1_score: 0.8039\n",
      "Epoch 39/200\n",
      "523/523 [==============================] - 6s 11ms/step - loss: 0.4490 - accuracy: 0.7918 - Sensitivity: 0.7631 - Specificity: 0.8163 - Precision: 0.7800 - f1_score: 0.7918 - val_loss: 0.4271 - val_accuracy: 0.8094 - val_Sensitivity: 0.7879 - val_Specificity: 0.8322 - val_Precision: 0.8327 - val_f1_score: 0.8094\n",
      "Epoch 40/200\n",
      "523/523 [==============================] - 6s 11ms/step - loss: 0.4472 - accuracy: 0.7922 - Sensitivity: 0.7623 - Specificity: 0.8178 - Precision: 0.7812 - f1_score: 0.7922 - val_loss: 0.4239 - val_accuracy: 0.8062 - val_Sensitivity: 0.7902 - val_Specificity: 0.8233 - val_Precision: 0.8257 - val_f1_score: 0.8062\n",
      "Epoch 41/200\n",
      "523/523 [==============================] - 5s 10ms/step - loss: 0.4439 - accuracy: 0.7949 - Sensitivity: 0.7681 - Specificity: 0.8178 - Precision: 0.7825 - f1_score: 0.7949 - val_loss: 0.4314 - val_accuracy: 0.8074 - val_Sensitivity: 0.7863 - val_Specificity: 0.8298 - val_Precision: 0.8304 - val_f1_score: 0.8074\n",
      "Epoch 42/200\n",
      "523/523 [==============================] - 6s 11ms/step - loss: 0.4432 - accuracy: 0.7942 - Sensitivity: 0.7666 - Specificity: 0.8178 - Precision: 0.7821 - f1_score: 0.7942 - val_loss: 0.4265 - val_accuracy: 0.8023 - val_Sensitivity: 0.7671 - val_Specificity: 0.8396 - val_Precision: 0.8351 - val_f1_score: 0.8023\n",
      "Epoch 43/200\n",
      "523/523 [==============================] - 6s 11ms/step - loss: 0.4461 - accuracy: 0.7938 - Sensitivity: 0.7678 - Specificity: 0.8161 - Precision: 0.7808 - f1_score: 0.7938 - val_loss: 0.4266 - val_accuracy: 0.8023 - val_Sensitivity: 0.7709 - val_Specificity: 0.8355 - val_Precision: 0.8324 - val_f1_score: 0.8023\n",
      "Epoch 44/200\n",
      "523/523 [==============================] - 5s 10ms/step - loss: 0.4397 - accuracy: 0.7977 - Sensitivity: 0.7713 - Specificity: 0.8203 - Precision: 0.7855 - f1_score: 0.7977 - val_loss: 0.4244 - val_accuracy: 0.8078 - val_Sensitivity: 0.7717 - val_Specificity: 0.8461 - val_Precision: 0.8416 - val_f1_score: 0.8078\n",
      "Epoch 45/200\n",
      "523/523 [==============================] - 5s 10ms/step - loss: 0.4434 - accuracy: 0.7934 - Sensitivity: 0.7663 - Specificity: 0.8165 - Precision: 0.7809 - f1_score: 0.7934 - val_loss: 0.4322 - val_accuracy: 0.8043 - val_Sensitivity: 0.7756 - val_Specificity: 0.8347 - val_Precision: 0.8325 - val_f1_score: 0.8043\n",
      "Epoch 46/200\n",
      "523/523 [==============================] - 5s 10ms/step - loss: 0.4419 - accuracy: 0.7977 - Sensitivity: 0.7720 - Specificity: 0.8197 - Precision: 0.7851 - f1_score: 0.7977 - val_loss: 0.4343 - val_accuracy: 0.7972 - val_Sensitivity: 0.7494 - val_Specificity: 0.8477 - val_Precision: 0.8391 - val_f1_score: 0.7972\n",
      "Epoch 47/200\n",
      "523/523 [==============================] - 6s 11ms/step - loss: 0.4418 - accuracy: 0.7957 - Sensitivity: 0.7711 - Specificity: 0.8166 - Precision: 0.7820 - f1_score: 0.7957 - val_loss: 0.4212 - val_accuracy: 0.8118 - val_Sensitivity: 0.8078 - val_Specificity: 0.8160 - val_Precision: 0.8230 - val_f1_score: 0.8118\n",
      "Epoch 48/200\n",
      "523/523 [==============================] - 5s 10ms/step - loss: 0.4431 - accuracy: 0.7967 - Sensitivity: 0.7706 - Specificity: 0.8191 - Precision: 0.7842 - f1_score: 0.7967 - val_loss: 0.4268 - val_accuracy: 0.8023 - val_Sensitivity: 0.7817 - val_Specificity: 0.8241 - val_Precision: 0.8248 - val_f1_score: 0.8023\n",
      "Epoch 49/200\n",
      "523/523 [==============================] - 5s 10ms/step - loss: 0.4395 - accuracy: 0.8004 - Sensitivity: 0.7778 - Specificity: 0.8196 - Precision: 0.7863 - f1_score: 0.8004 - val_loss: 0.4242 - val_accuracy: 0.8062 - val_Sensitivity: 0.7771 - val_Specificity: 0.8371 - val_Precision: 0.8348 - val_f1_score: 0.8062\n",
      "Epoch 50/200\n",
      "523/523 [==============================] - 6s 12ms/step - loss: 0.4398 - accuracy: 0.7971 - Sensitivity: 0.7719 - Specificity: 0.8186 - Precision: 0.7840 - f1_score: 0.7971 - val_loss: 0.4339 - val_accuracy: 0.7968 - val_Sensitivity: 0.7487 - val_Specificity: 0.8477 - val_Precision: 0.8389 - val_f1_score: 0.7968\n",
      "Epoch 51/200\n",
      "523/523 [==============================] - 6s 11ms/step - loss: 0.4401 - accuracy: 0.7984 - Sensitivity: 0.7671 - Specificity: 0.8251 - Precision: 0.7892 - f1_score: 0.7984 - val_loss: 0.4381 - val_accuracy: 0.7940 - val_Sensitivity: 0.7310 - val_Specificity: 0.8607 - val_Precision: 0.8476 - val_f1_score: 0.7940\n",
      "Epoch 52/200\n",
      "523/523 [==============================] - 5s 10ms/step - loss: 0.4416 - accuracy: 0.7961 - Sensitivity: 0.7675 - Specificity: 0.8205 - Precision: 0.7849 - f1_score: 0.7961 - val_loss: 0.4307 - val_accuracy: 0.8035 - val_Sensitivity: 0.7671 - val_Specificity: 0.8420 - val_Precision: 0.8372 - val_f1_score: 0.8035\n",
      "Epoch 53/200\n",
      "523/523 [==============================] - 5s 10ms/step - loss: 0.4369 - accuracy: 0.8022 - Sensitivity: 0.7788 - Specificity: 0.8222 - Precision: 0.7889 - f1_score: 0.8022 - val_loss: 0.4313 - val_accuracy: 0.7983 - val_Sensitivity: 0.7479 - val_Specificity: 0.8518 - val_Precision: 0.8424 - val_f1_score: 0.7983\n",
      "Epoch 54/200\n",
      "523/523 [==============================] - 6s 11ms/step - loss: 0.4418 - accuracy: 0.7970 - Sensitivity: 0.7674 - Specificity: 0.8223 - Precision: 0.7866 - f1_score: 0.7970 - val_loss: 0.4220 - val_accuracy: 0.8114 - val_Sensitivity: 0.8117 - val_Specificity: 0.8111 - val_Precision: 0.8199 - val_f1_score: 0.8114\n",
      "Epoch 55/200\n",
      "523/523 [==============================] - 6s 11ms/step - loss: 0.4383 - accuracy: 0.7976 - Sensitivity: 0.7731 - Specificity: 0.8186 - Precision: 0.7843 - f1_score: 0.7976 - val_loss: 0.4262 - val_accuracy: 0.8023 - val_Sensitivity: 0.7494 - val_Specificity: 0.8583 - val_Precision: 0.8486 - val_f1_score: 0.8023\n",
      "Epoch 56/200\n",
      "523/523 [==============================] - 5s 10ms/step - loss: 0.4377 - accuracy: 0.7978 - Sensitivity: 0.7676 - Specificity: 0.8236 - Precision: 0.7878 - f1_score: 0.7978 - val_loss: 0.4181 - val_accuracy: 0.8122 - val_Sensitivity: 0.8109 - val_Specificity: 0.8135 - val_Precision: 0.8217 - val_f1_score: 0.8122\n",
      "Epoch 57/200\n",
      "523/523 [==============================] - 5s 10ms/step - loss: 0.4386 - accuracy: 0.7979 - Sensitivity: 0.7716 - Specificity: 0.8203 - Precision: 0.7856 - f1_score: 0.7979 - val_loss: 0.4254 - val_accuracy: 0.8035 - val_Sensitivity: 0.7825 - val_Specificity: 0.8257 - val_Precision: 0.8263 - val_f1_score: 0.8035\n",
      "Epoch 58/200\n",
      "523/523 [==============================] - 5s 10ms/step - loss: 0.4396 - accuracy: 0.7948 - Sensitivity: 0.7659 - Specificity: 0.8195 - Precision: 0.7836 - f1_score: 0.7948 - val_loss: 0.4287 - val_accuracy: 0.8007 - val_Sensitivity: 0.7494 - val_Specificity: 0.8550 - val_Precision: 0.8456 - val_f1_score: 0.8007\n",
      "Epoch 59/200\n",
      "523/523 [==============================] - 6s 11ms/step - loss: 0.4353 - accuracy: 0.7992 - Sensitivity: 0.7763 - Specificity: 0.8187 - Precision: 0.7851 - f1_score: 0.7992 - val_loss: 0.4228 - val_accuracy: 0.8039 - val_Sensitivity: 0.7832 - val_Specificity: 0.8257 - val_Precision: 0.8264 - val_f1_score: 0.8039\n",
      "Epoch 60/200\n",
      "523/523 [==============================] - 6s 11ms/step - loss: 0.4374 - accuracy: 0.8013 - Sensitivity: 0.7776 - Specificity: 0.8216 - Precision: 0.7881 - f1_score: 0.8013 - val_loss: 0.4219 - val_accuracy: 0.8094 - val_Sensitivity: 0.8002 - val_Specificity: 0.8192 - val_Precision: 0.8242 - val_f1_score: 0.8094\n",
      "Epoch 61/200\n",
      "523/523 [==============================] - 5s 10ms/step - loss: 0.4343 - accuracy: 0.7998 - Sensitivity: 0.7722 - Specificity: 0.8234 - Precision: 0.7886 - f1_score: 0.7998 - val_loss: 0.4286 - val_accuracy: 0.8035 - val_Sensitivity: 0.7533 - val_Specificity: 0.8567 - val_Precision: 0.8478 - val_f1_score: 0.8035\n",
      "Epoch 62/200\n",
      "523/523 [==============================] - 6s 11ms/step - loss: 0.4360 - accuracy: 0.7966 - Sensitivity: 0.7703 - Specificity: 0.8190 - Precision: 0.7841 - f1_score: 0.7966 - val_loss: 0.4285 - val_accuracy: 0.8059 - val_Sensitivity: 0.7686 - val_Specificity: 0.8453 - val_Precision: 0.8403 - val_f1_score: 0.8059\n",
      "Epoch 63/200\n",
      "523/523 [==============================] - 5s 10ms/step - loss: 0.4331 - accuracy: 0.8004 - Sensitivity: 0.7719 - Specificity: 0.8246 - Precision: 0.7897 - f1_score: 0.8004 - val_loss: 0.4179 - val_accuracy: 0.8130 - val_Sensitivity: 0.7948 - val_Specificity: 0.8322 - val_Precision: 0.8339 - val_f1_score: 0.8130\n",
      "Epoch 64/200\n",
      "523/523 [==============================] - 5s 10ms/step - loss: 0.4344 - accuracy: 0.8021 - Sensitivity: 0.7777 - Specificity: 0.8230 - Precision: 0.7894 - f1_score: 0.8021 - val_loss: 0.4244 - val_accuracy: 0.8047 - val_Sensitivity: 0.7679 - val_Specificity: 0.8436 - val_Precision: 0.8388 - val_f1_score: 0.8047\n",
      "Epoch 65/200\n",
      "523/523 [==============================] - 5s 10ms/step - loss: 0.4342 - accuracy: 0.8022 - Sensitivity: 0.7774 - Specificity: 0.8233 - Precision: 0.7896 - f1_score: 0.8022 - val_loss: 0.4212 - val_accuracy: 0.8138 - val_Sensitivity: 0.7809 - val_Specificity: 0.8485 - val_Precision: 0.8453 - val_f1_score: 0.8138\n",
      "Epoch 66/200\n",
      "523/523 [==============================] - 6s 12ms/step - loss: 0.4364 - accuracy: 0.7991 - Sensitivity: 0.7752 - Specificity: 0.8194 - Precision: 0.7855 - f1_score: 0.7991 - val_loss: 0.4225 - val_accuracy: 0.8082 - val_Sensitivity: 0.7871 - val_Specificity: 0.8306 - val_Precision: 0.8312 - val_f1_score: 0.8082\n",
      "Epoch 67/200\n",
      "523/523 [==============================] - 6s 11ms/step - loss: 0.4342 - accuracy: 0.7993 - Sensitivity: 0.7719 - Specificity: 0.8228 - Precision: 0.7880 - f1_score: 0.7993 - val_loss: 0.4167 - val_accuracy: 0.8189 - val_Sensitivity: 0.8248 - val_Specificity: 0.8127 - val_Precision: 0.8235 - val_f1_score: 0.8189\n",
      "Epoch 68/200\n",
      "523/523 [==============================] - 5s 10ms/step - loss: 0.4356 - accuracy: 0.7998 - Sensitivity: 0.7759 - Specificity: 0.8201 - Precision: 0.7863 - f1_score: 0.7998 - val_loss: 0.4207 - val_accuracy: 0.8134 - val_Sensitivity: 0.8263 - val_Specificity: 0.7997 - val_Precision: 0.8138 - val_f1_score: 0.8134\n",
      "Epoch 69/200\n",
      "523/523 [==============================] - 6s 11ms/step - loss: 0.4354 - accuracy: 0.8014 - Sensitivity: 0.7778 - Specificity: 0.8215 - Precision: 0.7881 - f1_score: 0.8014 - val_loss: 0.4190 - val_accuracy: 0.8149 - val_Sensitivity: 0.8148 - val_Specificity: 0.8151 - val_Precision: 0.8236 - val_f1_score: 0.8149\n",
      "Epoch 70/200\n",
      "523/523 [==============================] - 6s 11ms/step - loss: 0.4315 - accuracy: 0.8026 - Sensitivity: 0.7822 - Specificity: 0.8201 - Precision: 0.7877 - f1_score: 0.8026 - val_loss: 0.4129 - val_accuracy: 0.8157 - val_Sensitivity: 0.8263 - val_Specificity: 0.8046 - val_Precision: 0.8175 - val_f1_score: 0.8157\n",
      "Epoch 71/200\n",
      "523/523 [==============================] - 5s 10ms/step - loss: 0.4326 - accuracy: 0.8016 - Sensitivity: 0.7743 - Specificity: 0.8249 - Precision: 0.7905 - f1_score: 0.8016 - val_loss: 0.4262 - val_accuracy: 0.8118 - val_Sensitivity: 0.7886 - val_Specificity: 0.8363 - val_Precision: 0.8362 - val_f1_score: 0.8118\n",
      "Epoch 72/200\n",
      "523/523 [==============================] - 5s 10ms/step - loss: 0.4321 - accuracy: 0.8002 - Sensitivity: 0.7741 - Specificity: 0.8225 - Precision: 0.7881 - f1_score: 0.8002 - val_loss: 0.4215 - val_accuracy: 0.8106 - val_Sensitivity: 0.8117 - val_Specificity: 0.8094 - val_Precision: 0.8186 - val_f1_score: 0.8106\n",
      "Epoch 73/200\n",
      "523/523 [==============================] - 6s 11ms/step - loss: 0.4347 - accuracy: 0.8018 - Sensitivity: 0.7787 - Specificity: 0.8215 - Precision: 0.7882 - f1_score: 0.8018 - val_loss: 0.4161 - val_accuracy: 0.8169 - val_Sensitivity: 0.8009 - val_Specificity: 0.8339 - val_Precision: 0.8363 - val_f1_score: 0.8169\n",
      "Epoch 74/200\n",
      "523/523 [==============================] - 6s 11ms/step - loss: 0.4332 - accuracy: 0.8015 - Sensitivity: 0.7808 - Specificity: 0.8192 - Precision: 0.7866 - f1_score: 0.8015 - val_loss: 0.4182 - val_accuracy: 0.8173 - val_Sensitivity: 0.8255 - val_Specificity: 0.8086 - val_Precision: 0.8205 - val_f1_score: 0.8173\n",
      "Epoch 75/200\n",
      "523/523 [==============================] - 6s 11ms/step - loss: 0.4319 - accuracy: 0.8036 - Sensitivity: 0.7757 - Specificity: 0.8274 - Precision: 0.7932 - f1_score: 0.8036 - val_loss: 0.4125 - val_accuracy: 0.8205 - val_Sensitivity: 0.8140 - val_Specificity: 0.8274 - val_Precision: 0.8332 - val_f1_score: 0.8205\n",
      "Epoch 76/200\n",
      "523/523 [==============================] - 5s 10ms/step - loss: 0.4295 - accuracy: 0.8033 - Sensitivity: 0.7763 - Specificity: 0.8263 - Precision: 0.7923 - f1_score: 0.8033 - val_loss: 0.4230 - val_accuracy: 0.8098 - val_Sensitivity: 0.7817 - val_Specificity: 0.8396 - val_Precision: 0.8377 - val_f1_score: 0.8098\n",
      "Epoch 77/200\n",
      "523/523 [==============================] - 6s 11ms/step - loss: 0.4345 - accuracy: 0.8024 - Sensitivity: 0.7730 - Specificity: 0.8275 - Precision: 0.7927 - f1_score: 0.8024 - val_loss: 0.4249 - val_accuracy: 0.8059 - val_Sensitivity: 0.7640 - val_Specificity: 0.8502 - val_Precision: 0.8438 - val_f1_score: 0.8059\n",
      "Epoch 78/200\n",
      "523/523 [==============================] - 5s 10ms/step - loss: 0.4299 - accuracy: 0.8042 - Sensitivity: 0.7744 - Specificity: 0.8297 - Precision: 0.7951 - f1_score: 0.8042 - val_loss: 0.4141 - val_accuracy: 0.8157 - val_Sensitivity: 0.8117 - val_Specificity: 0.8200 - val_Precision: 0.8269 - val_f1_score: 0.8157\n",
      "Epoch 79/200\n",
      "523/523 [==============================] - 6s 11ms/step - loss: 0.4330 - accuracy: 0.8004 - Sensitivity: 0.7745 - Specificity: 0.8225 - Precision: 0.7883 - f1_score: 0.8004 - val_loss: 0.4245 - val_accuracy: 0.8051 - val_Sensitivity: 0.7855 - val_Specificity: 0.8257 - val_Precision: 0.8269 - val_f1_score: 0.8051\n",
      "Epoch 80/200\n",
      "523/523 [==============================] - 6s 11ms/step - loss: 0.4298 - accuracy: 0.8024 - Sensitivity: 0.7763 - Specificity: 0.8246 - Precision: 0.7906 - f1_score: 0.8024 - val_loss: 0.4261 - val_accuracy: 0.7991 - val_Sensitivity: 0.7540 - val_Specificity: 0.8469 - val_Precision: 0.8392 - val_f1_score: 0.7991\n",
      "Epoch 81/200\n",
      "523/523 [==============================] - 5s 10ms/step - loss: 0.4340 - accuracy: 0.8011 - Sensitivity: 0.7729 - Specificity: 0.8251 - Precision: 0.7904 - f1_score: 0.8011 - val_loss: 0.4249 - val_accuracy: 0.8062 - val_Sensitivity: 0.7725 - val_Specificity: 0.8420 - val_Precision: 0.8382 - val_f1_score: 0.8062\n",
      "Epoch 82/200\n",
      "523/523 [==============================] - 5s 10ms/step - loss: 0.4318 - accuracy: 0.8017 - Sensitivity: 0.7826 - Specificity: 0.8179 - Precision: 0.7857 - f1_score: 0.8017 - val_loss: 0.4142 - val_accuracy: 0.8157 - val_Sensitivity: 0.8509 - val_Specificity: 0.7785 - val_Precision: 0.8028 - val_f1_score: 0.8157\n",
      "Epoch 83/200\n",
      "523/523 [==============================] - 6s 11ms/step - loss: 0.4334 - accuracy: 0.8029 - Sensitivity: 0.7789 - Specificity: 0.8234 - Precision: 0.7901 - f1_score: 0.8029 - val_loss: 0.4254 - val_accuracy: 0.8122 - val_Sensitivity: 0.8071 - val_Specificity: 0.8176 - val_Precision: 0.8242 - val_f1_score: 0.8122\n",
      "Epoch 84/200\n",
      "523/523 [==============================] - 5s 10ms/step - loss: 0.4301 - accuracy: 0.8018 - Sensitivity: 0.7808 - Specificity: 0.8198 - Precision: 0.7871 - f1_score: 0.8018 - val_loss: 0.4258 - val_accuracy: 0.8086 - val_Sensitivity: 0.8148 - val_Specificity: 0.8021 - val_Precision: 0.8135 - val_f1_score: 0.8086\n",
      "Epoch 85/200\n",
      "523/523 [==============================] - 5s 10ms/step - loss: 0.4283 - accuracy: 0.8049 - Sensitivity: 0.7783 - Specificity: 0.8275 - Precision: 0.7938 - f1_score: 0.8049 - val_loss: 0.4282 - val_accuracy: 0.8031 - val_Sensitivity: 0.7394 - val_Specificity: 0.8705 - val_Precision: 0.8582 - val_f1_score: 0.8031\n",
      "Epoch 86/200\n",
      "523/523 [==============================] - 5s 10ms/step - loss: 0.4323 - accuracy: 0.8029 - Sensitivity: 0.7774 - Specificity: 0.8246 - Precision: 0.7909 - f1_score: 0.8029 - val_loss: 0.4161 - val_accuracy: 0.8122 - val_Sensitivity: 0.8048 - val_Specificity: 0.8200 - val_Precision: 0.8257 - val_f1_score: 0.8122\n",
      "Epoch 87/200\n",
      "523/523 [==============================] - 6s 12ms/step - loss: 0.4324 - accuracy: 0.8024 - Sensitivity: 0.7783 - Specificity: 0.8229 - Precision: 0.7895 - f1_score: 0.8024 - val_loss: 0.4188 - val_accuracy: 0.8157 - val_Sensitivity: 0.7932 - val_Specificity: 0.8396 - val_Precision: 0.8397 - val_f1_score: 0.8157\n",
      "Epoch 88/200\n",
      "523/523 [==============================] - 6s 11ms/step - loss: 0.4316 - accuracy: 0.8032 - Sensitivity: 0.7763 - Specificity: 0.8261 - Precision: 0.7920 - f1_score: 0.8032 - val_loss: 0.4111 - val_accuracy: 0.8157 - val_Sensitivity: 0.8132 - val_Specificity: 0.8184 - val_Precision: 0.8259 - val_f1_score: 0.8157\n",
      "Epoch 89/200\n",
      "523/523 [==============================] - 5s 10ms/step - loss: 0.4299 - accuracy: 0.8030 - Sensitivity: 0.7819 - Specificity: 0.8210 - Precision: 0.7885 - f1_score: 0.8030 - val_loss: 0.4132 - val_accuracy: 0.8169 - val_Sensitivity: 0.8086 - val_Specificity: 0.8257 - val_Precision: 0.8310 - val_f1_score: 0.8169\n",
      "Epoch 90/200\n",
      "523/523 [==============================] - 5s 11ms/step - loss: 0.4293 - accuracy: 0.8025 - Sensitivity: 0.7780 - Specificity: 0.8233 - Precision: 0.7898 - f1_score: 0.8025 - val_loss: 0.4157 - val_accuracy: 0.8189 - val_Sensitivity: 0.8086 - val_Specificity: 0.8298 - val_Precision: 0.8343 - val_f1_score: 0.8189\n",
      "Epoch 91/200\n",
      "523/523 [==============================] - 6s 12ms/step - loss: 0.4326 - accuracy: 0.7996 - Sensitivity: 0.7722 - Specificity: 0.8231 - Precision: 0.7883 - f1_score: 0.7996 - val_loss: 0.4223 - val_accuracy: 0.8098 - val_Sensitivity: 0.8255 - val_Specificity: 0.7932 - val_Precision: 0.8087 - val_f1_score: 0.8098\n",
      "Epoch 92/200\n",
      "523/523 [==============================] - 5s 10ms/step - loss: 0.4310 - accuracy: 0.8021 - Sensitivity: 0.7800 - Specificity: 0.8210 - Precision: 0.7880 - f1_score: 0.8021 - val_loss: 0.4051 - val_accuracy: 0.8201 - val_Sensitivity: 0.8117 - val_Specificity: 0.8290 - val_Precision: 0.8341 - val_f1_score: 0.8201\n",
      "Epoch 93/200\n",
      "523/523 [==============================] - 5s 10ms/step - loss: 0.4308 - accuracy: 0.8052 - Sensitivity: 0.7804 - Specificity: 0.8264 - Precision: 0.7932 - f1_score: 0.8052 - val_loss: 0.4170 - val_accuracy: 0.8070 - val_Sensitivity: 0.7594 - val_Specificity: 0.8575 - val_Precision: 0.8495 - val_f1_score: 0.8070\n",
      "Epoch 94/200\n",
      "523/523 [==============================] - 5s 10ms/step - loss: 0.4309 - accuracy: 0.8027 - Sensitivity: 0.7789 - Specificity: 0.8229 - Precision: 0.7896 - f1_score: 0.8027 - val_loss: 0.4235 - val_accuracy: 0.8086 - val_Sensitivity: 0.7871 - val_Specificity: 0.8314 - val_Precision: 0.8318 - val_f1_score: 0.8086\n",
      "Epoch 95/200\n",
      "523/523 [==============================] - 6s 12ms/step - loss: 0.4296 - accuracy: 0.8046 - Sensitivity: 0.7813 - Specificity: 0.8245 - Precision: 0.7916 - f1_score: 0.8046 - val_loss: 0.4181 - val_accuracy: 0.8110 - val_Sensitivity: 0.8071 - val_Specificity: 0.8151 - val_Precision: 0.8222 - val_f1_score: 0.8110\n",
      "Epoch 96/200\n",
      "523/523 [==============================] - 5s 10ms/step - loss: 0.4294 - accuracy: 0.8069 - Sensitivity: 0.7799 - Specificity: 0.8299 - Precision: 0.7965 - f1_score: 0.8069 - val_loss: 0.4187 - val_accuracy: 0.8086 - val_Sensitivity: 0.7771 - val_Specificity: 0.8420 - val_Precision: 0.8390 - val_f1_score: 0.8086\n",
      "Epoch 97/200\n",
      "523/523 [==============================] - 5s 10ms/step - loss: 0.4319 - accuracy: 0.8017 - Sensitivity: 0.7774 - Specificity: 0.8223 - Precision: 0.7888 - f1_score: 0.8017 - val_loss: 0.4161 - val_accuracy: 0.8098 - val_Sensitivity: 0.7940 - val_Specificity: 0.8265 - val_Precision: 0.8291 - val_f1_score: 0.8098\n",
      "Epoch 98/200\n",
      "523/523 [==============================] - 5s 10ms/step - loss: 0.4278 - accuracy: 0.8065 - Sensitivity: 0.7769 - Specificity: 0.8317 - Precision: 0.7975 - f1_score: 0.8065 - val_loss: 0.4118 - val_accuracy: 0.8114 - val_Sensitivity: 0.8163 - val_Specificity: 0.8062 - val_Precision: 0.8169 - val_f1_score: 0.8114\n",
      "Epoch 99/200\n",
      "523/523 [==============================] - 6s 12ms/step - loss: 0.4285 - accuracy: 0.8045 - Sensitivity: 0.7813 - Specificity: 0.8243 - Precision: 0.7914 - f1_score: 0.8045 - val_loss: 0.4047 - val_accuracy: 0.8217 - val_Sensitivity: 0.8493 - val_Specificity: 0.7923 - val_Precision: 0.8125 - val_f1_score: 0.8217\n",
      "Epoch 100/200\n",
      "523/523 [==============================] - 5s 10ms/step - loss: 0.4279 - accuracy: 0.8031 - Sensitivity: 0.7806 - Specificity: 0.8222 - Precision: 0.7893 - f1_score: 0.8031 - val_loss: 0.4150 - val_accuracy: 0.8157 - val_Sensitivity: 0.7948 - val_Specificity: 0.8379 - val_Precision: 0.8386 - val_f1_score: 0.8157\n",
      "Epoch 101/200\n",
      "523/523 [==============================] - 5s 10ms/step - loss: 0.4291 - accuracy: 0.8033 - Sensitivity: 0.7769 - Specificity: 0.8258 - Precision: 0.7919 - f1_score: 0.8033 - val_loss: 0.4150 - val_accuracy: 0.8189 - val_Sensitivity: 0.8401 - val_Specificity: 0.7964 - val_Precision: 0.8138 - val_f1_score: 0.8189\n",
      "Epoch 102/200\n",
      "523/523 [==============================] - 5s 10ms/step - loss: 0.4277 - accuracy: 0.8056 - Sensitivity: 0.7809 - Specificity: 0.8267 - Precision: 0.7936 - f1_score: 0.8056 - val_loss: 0.4156 - val_accuracy: 0.8142 - val_Sensitivity: 0.8109 - val_Specificity: 0.8176 - val_Precision: 0.8249 - val_f1_score: 0.8142\n",
      "Epoch 103/200\n",
      "523/523 [==============================] - 6s 11ms/step - loss: 0.4289 - accuracy: 0.8035 - Sensitivity: 0.7852 - Specificity: 0.8191 - Precision: 0.7874 - f1_score: 0.8035 - val_loss: 0.4087 - val_accuracy: 0.8173 - val_Sensitivity: 0.8363 - val_Specificity: 0.7972 - val_Precision: 0.8138 - val_f1_score: 0.8173\n",
      "Epoch 104/200\n",
      "523/523 [==============================] - 6s 11ms/step - loss: 0.4285 - accuracy: 0.8045 - Sensitivity: 0.7854 - Specificity: 0.8208 - Precision: 0.7891 - f1_score: 0.8045 - val_loss: 0.4078 - val_accuracy: 0.8240 - val_Sensitivity: 0.8340 - val_Specificity: 0.8135 - val_Precision: 0.8257 - val_f1_score: 0.8240\n",
      "Epoch 105/200\n",
      "523/523 [==============================] - 5s 10ms/step - loss: 0.4275 - accuracy: 0.8053 - Sensitivity: 0.7817 - Specificity: 0.8254 - Precision: 0.7926 - f1_score: 0.8053 - val_loss: 0.4152 - val_accuracy: 0.8106 - val_Sensitivity: 0.7963 - val_Specificity: 0.8257 - val_Precision: 0.8288 - val_f1_score: 0.8106\n",
      "Epoch 106/200\n",
      "523/523 [==============================] - 5s 10ms/step - loss: 0.4298 - accuracy: 0.8048 - Sensitivity: 0.7782 - Specificity: 0.8276 - Precision: 0.7938 - f1_score: 0.8048 - val_loss: 0.4068 - val_accuracy: 0.8165 - val_Sensitivity: 0.8002 - val_Specificity: 0.8339 - val_Precision: 0.8361 - val_f1_score: 0.8165\n",
      "Epoch 107/200\n",
      "523/523 [==============================] - 5s 10ms/step - loss: 0.4299 - accuracy: 0.8062 - Sensitivity: 0.7837 - Specificity: 0.8253 - Precision: 0.7929 - f1_score: 0.8062 - val_loss: 0.4109 - val_accuracy: 0.8157 - val_Sensitivity: 0.8025 - val_Specificity: 0.8298 - val_Precision: 0.8332 - val_f1_score: 0.8157\n",
      "Epoch 108/200\n",
      "523/523 [==============================] - 6s 12ms/step - loss: 0.4303 - accuracy: 0.8043 - Sensitivity: 0.7766 - Specificity: 0.8279 - Precision: 0.7939 - f1_score: 0.8043 - val_loss: 0.4112 - val_accuracy: 0.8161 - val_Sensitivity: 0.7955 - val_Specificity: 0.8379 - val_Precision: 0.8387 - val_f1_score: 0.8161\n",
      "Epoch 109/200\n",
      "523/523 [==============================] - 5s 10ms/step - loss: 0.4273 - accuracy: 0.8036 - Sensitivity: 0.7795 - Specificity: 0.8242 - Precision: 0.7909 - f1_score: 0.8036 - val_loss: 0.4112 - val_accuracy: 0.8118 - val_Sensitivity: 0.7779 - val_Specificity: 0.8477 - val_Precision: 0.8440 - val_f1_score: 0.8118\n",
      "Epoch 110/200\n",
      "523/523 [==============================] - 5s 10ms/step - loss: 0.4249 - accuracy: 0.8042 - Sensitivity: 0.7799 - Specificity: 0.8250 - Precision: 0.7918 - f1_score: 0.8042 - val_loss: 0.4159 - val_accuracy: 0.8082 - val_Sensitivity: 0.7763 - val_Specificity: 0.8420 - val_Precision: 0.8389 - val_f1_score: 0.8082\n",
      "Epoch 111/200\n",
      "523/523 [==============================] - 5s 10ms/step - loss: 0.4270 - accuracy: 0.8048 - Sensitivity: 0.7750 - Specificity: 0.8303 - Precision: 0.7957 - f1_score: 0.8048 - val_loss: 0.4060 - val_accuracy: 0.8244 - val_Sensitivity: 0.8309 - val_Specificity: 0.8176 - val_Precision: 0.8284 - val_f1_score: 0.8244\n",
      "Epoch 112/200\n",
      "523/523 [==============================] - 5s 10ms/step - loss: 0.4266 - accuracy: 0.8051 - Sensitivity: 0.7843 - Specificity: 0.8229 - Precision: 0.7907 - f1_score: 0.8051 - val_loss: 0.4128 - val_accuracy: 0.8142 - val_Sensitivity: 0.7840 - val_Specificity: 0.8461 - val_Precision: 0.8437 - val_f1_score: 0.8142\n",
      "Epoch 113/200\n",
      "523/523 [==============================] - 5s 11ms/step - loss: 0.4294 - accuracy: 0.8054 - Sensitivity: 0.7861 - Specificity: 0.8219 - Precision: 0.7902 - f1_score: 0.8054 - val_loss: 0.4073 - val_accuracy: 0.8153 - val_Sensitivity: 0.8063 - val_Specificity: 0.8249 - val_Precision: 0.8299 - val_f1_score: 0.8153\n",
      "Epoch 114/200\n",
      "523/523 [==============================] - 5s 10ms/step - loss: 0.4253 - accuracy: 0.8053 - Sensitivity: 0.7826 - Specificity: 0.8246 - Precision: 0.7920 - f1_score: 0.8053 - val_loss: 0.4185 - val_accuracy: 0.8114 - val_Sensitivity: 0.7802 - val_Specificity: 0.8445 - val_Precision: 0.8416 - val_f1_score: 0.8114\n",
      "Epoch 115/200\n",
      "523/523 [==============================] - 6s 11ms/step - loss: 0.4257 - accuracy: 0.8067 - Sensitivity: 0.7820 - Specificity: 0.8278 - Precision: 0.7949 - f1_score: 0.8067 - val_loss: 0.4102 - val_accuracy: 0.8189 - val_Sensitivity: 0.7978 - val_Specificity: 0.8412 - val_Precision: 0.8418 - val_f1_score: 0.8189\n",
      "Epoch 116/200\n",
      "523/523 [==============================] - 5s 10ms/step - loss: 0.4278 - accuracy: 0.8064 - Sensitivity: 0.7854 - Specificity: 0.8243 - Precision: 0.7923 - f1_score: 0.8064 - val_loss: 0.4143 - val_accuracy: 0.8138 - val_Sensitivity: 0.7902 - val_Specificity: 0.8388 - val_Precision: 0.8385 - val_f1_score: 0.8138\n",
      "Epoch 117/200\n",
      "523/523 [==============================] - 6s 11ms/step - loss: 0.4282 - accuracy: 0.8032 - Sensitivity: 0.7787 - Specificity: 0.8242 - Precision: 0.7907 - f1_score: 0.8032 - val_loss: 0.4118 - val_accuracy: 0.8225 - val_Sensitivity: 0.8101 - val_Specificity: 0.8355 - val_Precision: 0.8392 - val_f1_score: 0.8225\n",
      "Epoch 118/200\n",
      "523/523 [==============================] - 5s 10ms/step - loss: 0.4269 - accuracy: 0.8030 - Sensitivity: 0.7784 - Specificity: 0.8239 - Precision: 0.7904 - f1_score: 0.8030 - val_loss: 0.4134 - val_accuracy: 0.8106 - val_Sensitivity: 0.7563 - val_Specificity: 0.8681 - val_Precision: 0.8586 - val_f1_score: 0.8106\n",
      "Epoch 119/200\n",
      "523/523 [==============================] - 6s 12ms/step - loss: 0.4288 - accuracy: 0.8036 - Sensitivity: 0.7774 - Specificity: 0.8259 - Precision: 0.7921 - f1_score: 0.8036 - val_loss: 0.4094 - val_accuracy: 0.8173 - val_Sensitivity: 0.8194 - val_Specificity: 0.8151 - val_Precision: 0.8244 - val_f1_score: 0.8173\n",
      "Epoch 00119: early stopping\n"
     ]
    }
   ],
   "source": [
    "mod=model4.fit(\n",
    " train,\n",
    "  validation_data=test,\n",
    " epochs=epoch,\n",
    "    callbacks=[es_callback,tensorboard_callback])"
   ]
  },
  {
   "cell_type": "code",
   "execution_count": 31,
   "id": "385bb924",
   "metadata": {
    "execution": {
     "iopub.execute_input": "2022-12-03T12:41:40.207657Z",
     "iopub.status.busy": "2022-12-03T12:41:40.207248Z",
     "iopub.status.idle": "2022-12-03T12:42:00.683932Z",
     "shell.execute_reply": "2022-12-03T12:42:00.682908Z"
    },
    "papermill": {
     "duration": 21.147618,
     "end_time": "2022-12-03T12:42:00.686685",
     "exception": false,
     "start_time": "2022-12-03T12:41:39.539067",
     "status": "completed"
    },
    "tags": []
   },
   "outputs": [
    {
     "name": "stderr",
     "output_type": "stream",
     "text": [
      "2022-12-03 12:41:47.721944: W tensorflow/python/util/util.cc:348] Sets are not currently considered sequences, but this may change in the future, so consider avoiding using them.\n"
     ]
    }
   ],
   "source": [
    "model4.save(\"model4\") \n",
    "with open(\"mod3_hist.pkl\",\"wb\") as file:\n",
    "    pickle.dump(mod.history,file)"
   ]
  },
  {
   "cell_type": "markdown",
   "id": "8db5e691",
   "metadata": {
    "_cell_guid": "24c3bd30-5a22-4aaa-9c5e-a33292a89ef6",
    "_uuid": "a2b19da0-a8a5-4551-bf84-f71d957b258a",
    "papermill": {
     "duration": 0.674544,
     "end_time": "2022-12-03T12:42:02.066961",
     "exception": false,
     "start_time": "2022-12-03T12:42:01.392417",
     "status": "completed"
    },
    "tags": []
   },
   "source": [
    "visualizing fitting history"
   ]
  },
  {
   "cell_type": "code",
   "execution_count": 32,
   "id": "25ca5fe1",
   "metadata": {
    "_cell_guid": "61356f2a-fd98-450d-9dee-629ade62c668",
    "_uuid": "139c8c69-2009-48cf-994e-53a25d26937a",
    "collapsed": false,
    "execution": {
     "iopub.execute_input": "2022-12-03T12:42:03.431797Z",
     "iopub.status.busy": "2022-12-03T12:42:03.431420Z",
     "iopub.status.idle": "2022-12-03T12:42:03.917805Z",
     "shell.execute_reply": "2022-12-03T12:42:03.916844Z"
    },
    "jupyter": {
     "outputs_hidden": false
    },
    "papermill": {
     "duration": 1.147349,
     "end_time": "2022-12-03T12:42:03.920089",
     "exception": false,
     "start_time": "2022-12-03T12:42:02.772740",
     "status": "completed"
    },
    "tags": []
   },
   "outputs": [
    {
     "data": {
      "image/png": "[encoded data removed]",
      "text/plain": [
       "<Figure size 1080x432 with 2 Axes>"
      ]
     },
     "metadata": {
      "needs_background": "light"
     },
     "output_type": "display_data"
    }
   ],
   "source": [
    "#Accuracy\n",
    "figure,ax=plt.subplots(nrows=1,ncols=2,figsize=(15,6))\n",
    "ax[0].plot(mod.history['accuracy'])\n",
    "ax[0].plot(mod.history['val_accuracy'])\n",
    "ax[0].set_title('model accuracy')\n",
    "ax[0].set_ylabel('accuracy')\n",
    "ax[0].set_xlabel('epoch')\n",
    "ax[0].legend(['train', 'test'], loc='upper left')\n",
    "\n",
    "# loss\n",
    "ax[1].plot(mod.history['loss'])\n",
    "ax[1].plot(mod.history['val_loss'])\n",
    "ax[1].set_title('model loss')\n",
    "ax[1].set_ylabel('loss')\n",
    "ax[1].set_xlabel('epoch')\n",
    "ax[1].legend(['train', 'test'], loc='upper left')\n",
    "plt.savefig('othercomparing7.png')"
   ]
  },
  {
   "cell_type": "code",
   "execution_count": 33,
   "id": "524d5cbe",
   "metadata": {
    "execution": {
     "iopub.execute_input": "2022-12-03T12:42:05.467220Z",
     "iopub.status.busy": "2022-12-03T12:42:05.466087Z",
     "iopub.status.idle": "2022-12-03T12:42:05.941455Z",
     "shell.execute_reply": "2022-12-03T12:42:05.940457Z"
    },
    "papermill": {
     "duration": 1.306287,
     "end_time": "2022-12-03T12:42:05.944494",
     "exception": false,
     "start_time": "2022-12-03T12:42:04.638207",
     "status": "completed"
    },
    "tags": []
   },
   "outputs": [
    {
     "data": {
      "image/png": "[encoded data removed]",
      "text/plain": [
       "<Figure size 1080x432 with 2 Axes>"
      ]
     },
     "metadata": {
      "needs_background": "light"
     },
     "output_type": "display_data"
    }
   ],
   "source": [
    "# Accuracy\n",
    "figure,ax=plt.subplots(nrows=1,ncols=2,figsize=(15,6))\n",
    "ax[1].plot(mod.history['val_accuracy'])\n",
    "ax[1].plot(mod.history['val_Sensitivity'])\n",
    "ax[1].plot(mod.history['val_Specificity'])\n",
    "#ax[1].plot(hist.history['val_Precision'])\n",
    "#ax[1].plot(hist.history['val_f1_score'])\n",
    "ax[1].set_title('Testing Set')\n",
    "ax[1].set_ylabel('score')\n",
    "ax[1].set_xlabel('epoch')\n",
    "ax[1].legend(['accuracy','Sensitivity','Specificity','Precision','F1 score'], loc='upper left')\n",
    "\n",
    "# Accuracy\n",
    "ax[0].plot(mod.history['accuracy'])\n",
    "ax[0].plot(mod.history['Sensitivity'])\n",
    "ax[0].plot(mod.history['Specificity'])\n",
    "#ax[0].plot(hist.history['Precision'])\n",
    "#ax[0].plot(hist.history['f1_score'])\n",
    "ax[0].set_title('Training Set')\n",
    "ax[0].set_ylabel('score')\n",
    "ax[0].set_xlabel('epoch')\n",
    "ax[0].legend(['accuracy','Sensitivity','Specificity','Precision','F1 score'], loc='upper left')\n",
    "plt.savefig('othercomparing8.png')"
   ]
  },
  {
   "cell_type": "markdown",
   "id": "9e4f06d1",
   "metadata": {
    "_cell_guid": "404ee4f6-0bbd-46a4-9591-1448848b38d0",
    "_uuid": "c4cfe81b-585d-466f-95fc-b26ebaf56547",
    "papermill": {
     "duration": 0.706957,
     "end_time": "2022-12-03T12:42:07.364180",
     "exception": false,
     "start_time": "2022-12-03T12:42:06.657223",
     "status": "completed"
    },
    "tags": []
   },
   "source": [
    "Evaluating the model"
   ]
  },
  {
   "cell_type": "code",
   "execution_count": 34,
   "id": "46aadeb5",
   "metadata": {
    "_cell_guid": "05a70dee-ef4e-4d3c-acb2-3d3eadfc6a4d",
    "_uuid": "87b12ff9-4a2b-4d07-bbd0-10c53136eb3c",
    "collapsed": false,
    "execution": {
     "iopub.execute_input": "2022-12-03T12:42:09.137372Z",
     "iopub.status.busy": "2022-12-03T12:42:09.136744Z",
     "iopub.status.idle": "2022-12-03T12:42:09.486128Z",
     "shell.execute_reply": "2022-12-03T12:42:09.485162Z"
    },
    "jupyter": {
     "outputs_hidden": false
    },
    "papermill": {
     "duration": 1.337072,
     "end_time": "2022-12-03T12:42:09.488252",
     "exception": false,
     "start_time": "2022-12-03T12:42:08.151180",
     "status": "completed"
    },
    "tags": []
   },
   "outputs": [
    {
     "name": "stdout",
     "output_type": "stream",
     "text": [
      "40/40 [==============================] - 0s 6ms/step - loss: 0.4094 - accuracy: 0.8173 - Sensitivity: 0.8194 - Specificity: 0.8151 - Precision: 0.8244 - f1_score: 0.8173\n"
     ]
    },
    {
     "data": {
      "text/html": [
       "<div>\n",
       "<style scoped>\n",
       "    .dataframe tbody tr th:only-of-type {\n",
       "        vertical-align: middle;\n",
       "    }\n",
       "\n",
       "    .dataframe tbody tr th {\n",
       "        vertical-align: top;\n",
       "    }\n",
       "\n",
       "    .dataframe thead th {\n",
       "        text-align: right;\n",
       "    }\n",
       "</style>\n",
       "<table border=\"1\" class=\"dataframe\">\n",
       "  <thead>\n",
       "    <tr style=\"text-align: right;\">\n",
       "      <th></th>\n",
       "      <th>Measure</th>\n",
       "      <th>Original Dataset</th>\n",
       "    </tr>\n",
       "  </thead>\n",
       "  <tbody>\n",
       "    <tr>\n",
       "      <th>0</th>\n",
       "      <td>Accuracy</td>\n",
       "      <td>0.8173</td>\n",
       "    </tr>\n",
       "    <tr>\n",
       "      <th>1</th>\n",
       "      <td>Sensitivity</td>\n",
       "      <td>0.8194</td>\n",
       "    </tr>\n",
       "    <tr>\n",
       "      <th>2</th>\n",
       "      <td>Specificty</td>\n",
       "      <td>0.8151</td>\n",
       "    </tr>\n",
       "    <tr>\n",
       "      <th>3</th>\n",
       "      <td>Precision</td>\n",
       "      <td>0.8244</td>\n",
       "    </tr>\n",
       "    <tr>\n",
       "      <th>4</th>\n",
       "      <td>F1 score</td>\n",
       "      <td>0.8173</td>\n",
       "    </tr>\n",
       "  </tbody>\n",
       "</table>\n",
       "</div>"
      ],
      "text/plain": [
       "       Measure  Original Dataset\n",
       "0     Accuracy            0.8173\n",
       "1  Sensitivity            0.8194\n",
       "2   Specificty            0.8151\n",
       "3    Precision            0.8244\n",
       "4     F1 score            0.8173"
      ]
     },
     "execution_count": 34,
     "metadata": {},
     "output_type": "execute_result"
    }
   ],
   "source": [
    "mod4=model4.evaluate(test)[1:6]\n",
    "mod4=pd.DataFrame({\"Measure\":['Accuracy','Sensitivity','Specificty','Precision','F1 score'],\n",
    "    \"Original Dataset\":[np.round(float(i), 4) for i in mod4]})\n",
    "mod4"
   ]
  },
  {
   "cell_type": "markdown",
   "id": "d8752181",
   "metadata": {
    "_cell_guid": "1fbbb762-11da-41a4-a6f5-a81525fcb1b0",
    "_uuid": "3ed09153-aff8-4e6c-8349-0834d1f38603",
    "papermill": {
     "duration": 0.705302,
     "end_time": "2022-12-03T12:42:10.899867",
     "exception": false,
     "start_time": "2022-12-03T12:42:10.194565",
     "status": "completed"
    },
    "tags": []
   },
   "source": [
    "Extracting features to use in kmeans"
   ]
  },
  {
   "cell_type": "code",
   "execution_count": 35,
   "id": "7b65c3ae",
   "metadata": {
    "_cell_guid": "dbfcb7f1-8386-42d4-a760-4497a7025368",
    "_uuid": "d75b3bc7-5dd0-476c-b0a4-e7362665698a",
    "collapsed": false,
    "execution": {
     "iopub.execute_input": "2022-12-03T12:42:12.201492Z",
     "iopub.status.busy": "2022-12-03T12:42:12.201082Z",
     "iopub.status.idle": "2022-12-03T12:42:12.209443Z",
     "shell.execute_reply": "2022-12-03T12:42:12.208590Z"
    },
    "jupyter": {
     "outputs_hidden": false
    },
    "papermill": {
     "duration": 0.659445,
     "end_time": "2022-12-03T12:42:12.211453",
     "exception": false,
     "start_time": "2022-12-03T12:42:11.552008",
     "status": "completed"
    },
    "tags": []
   },
   "outputs": [],
   "source": [
    "feature_miner=Model(\n",
    "    inputs=model4.inputs,\n",
    "    outputs=model4.get_layer(name=\"Bidirectional2\").output,name=\"feature_miner\"\n",
    ")"
   ]
  },
  {
   "cell_type": "markdown",
   "id": "c9f94c89",
   "metadata": {
    "_cell_guid": "b8f9c81c-c6aa-46e5-9f73-7b4c378a750b",
    "_uuid": "af7bb9a7-0553-4b26-b3c2-6098d3955e2f",
    "papermill": {
     "duration": 0.719821,
     "end_time": "2022-12-03T12:42:13.621782",
     "exception": false,
     "start_time": "2022-12-03T12:42:12.901961",
     "status": "completed"
    },
    "tags": []
   },
   "source": [
    "fitting kmeans model"
   ]
  },
  {
   "cell_type": "code",
   "execution_count": 36,
   "id": "3f7af583",
   "metadata": {
    "execution": {
     "iopub.execute_input": "2022-12-03T12:42:14.959026Z",
     "iopub.status.busy": "2022-12-03T12:42:14.958613Z",
     "iopub.status.idle": "2022-12-03T12:42:18.187318Z",
     "shell.execute_reply": "2022-12-03T12:42:18.185962Z"
    },
    "papermill": {
     "duration": 3.915952,
     "end_time": "2022-12-03T12:42:18.190281",
     "exception": false,
     "start_time": "2022-12-03T12:42:14.274329",
     "status": "completed"
    },
    "tags": []
   },
   "outputs": [
    {
     "data": {
      "text/plain": [
       "array([0, 0, 0, ..., 1, 0, 1], dtype=int32)"
      ]
     },
     "execution_count": 36,
     "metadata": {},
     "output_type": "execute_result"
    }
   ],
   "source": [
    "predictors=feature_miner.predict(train)\n",
    "kmea=KMeans(n_clusters=2, random_state=0).fit(predictors)\n",
    "tests=feature_miner.predict(test)\n",
    "kmeans_pred=kmea.predict(tests)\n",
    "kmea.labels_"
   ]
  },
  {
   "cell_type": "code",
   "execution_count": 37,
   "id": "db6a8dd3",
   "metadata": {
    "execution": {
     "iopub.execute_input": "2022-12-03T12:42:19.674513Z",
     "iopub.status.busy": "2022-12-03T12:42:19.674103Z",
     "iopub.status.idle": "2022-12-03T12:42:19.685018Z",
     "shell.execute_reply": "2022-12-03T12:42:19.684127Z"
    },
    "papermill": {
     "duration": 0.711086,
     "end_time": "2022-12-03T12:42:19.687064",
     "exception": false,
     "start_time": "2022-12-03T12:42:18.975978",
     "status": "completed"
    },
    "tags": []
   },
   "outputs": [],
   "source": [
    "with open(\"predictors4.pkl\",\"wb\") as file:\n",
    "    pickle.dump(predictors,file)\n",
    "    \n",
    "with open(\"tests4.pkl\",\"wb\") as file:\n",
    "    pickle.dump(tests,file)\n",
    "    \n",
    "with open(\"kmea4.pkl\",\"wb\") as file:\n",
    "    pickle.dump(kmea,file)"
   ]
  },
  {
   "cell_type": "code",
   "execution_count": 38,
   "id": "0d8c1c6e",
   "metadata": {
    "_cell_guid": "14df214d-02f9-4076-b685-52268983be7e",
    "_uuid": "93e197a4-6d8d-4a58-9aef-4996314d5de6",
    "collapsed": false,
    "execution": {
     "iopub.execute_input": "2022-12-03T12:42:20.987753Z",
     "iopub.status.busy": "2022-12-03T12:42:20.987383Z",
     "iopub.status.idle": "2022-12-03T12:42:21.151319Z",
     "shell.execute_reply": "2022-12-03T12:42:21.150364Z"
    },
    "jupyter": {
     "outputs_hidden": false
    },
    "papermill": {
     "duration": 0.815258,
     "end_time": "2022-12-03T12:42:21.153554",
     "exception": false,
     "start_time": "2022-12-03T12:42:20.338296",
     "status": "completed"
    },
    "tags": []
   },
   "outputs": [],
   "source": [
    "def labels(ds):\n",
    "    labels=[]\n",
    "    for batch in ds:\n",
    "        articles,labelss=batch\n",
    "        labelss=labelss.numpy()\n",
    "        labels.append(labelss)\n",
    "    labels=np.concatenate(labels)\n",
    "    return labels\n",
    "\n",
    "label_train=np.argmax(labels(train),axis=1)\n",
    "label_test=np.argmax(labels(test),axis=1)\n",
    "label_valid=np.argmax(labels(valid),axis=1)"
   ]
  },
  {
   "cell_type": "code",
   "execution_count": 39,
   "id": "0c74ab83",
   "metadata": {
    "execution": {
     "iopub.execute_input": "2022-12-03T12:42:22.553822Z",
     "iopub.status.busy": "2022-12-03T12:42:22.553440Z",
     "iopub.status.idle": "2022-12-03T12:42:22.559883Z",
     "shell.execute_reply": "2022-12-03T12:42:22.558825Z"
    },
    "papermill": {
     "duration": 0.710864,
     "end_time": "2022-12-03T12:42:22.562791",
     "exception": false,
     "start_time": "2022-12-03T12:42:21.851927",
     "status": "completed"
    },
    "tags": []
   },
   "outputs": [
    {
     "name": "stdout",
     "output_type": "stream",
     "text": [
      "0.19770660340055357\n",
      "0.8022933965994464\n"
     ]
    }
   ],
   "source": [
    "print(np.mean(kmeans_pred==label_test))\n",
    "print(np.mean(np.mean((1-kmeans_pred)==label_test)))"
   ]
  },
  {
   "cell_type": "code",
   "execution_count": 40,
   "id": "038b3646",
   "metadata": {
    "_cell_guid": "66a01402-5abf-4af8-bd79-d7b79595b464",
    "_uuid": "44fd4f06-2a4b-4223-a7f1-42a9c7030a94",
    "collapsed": false,
    "execution": {
     "iopub.execute_input": "2022-12-03T12:42:23.880224Z",
     "iopub.status.busy": "2022-12-03T12:42:23.879852Z",
     "iopub.status.idle": "2022-12-03T12:42:23.885494Z",
     "shell.execute_reply": "2022-12-03T12:42:23.884531Z"
    },
    "jupyter": {
     "outputs_hidden": false
    },
    "papermill": {
     "duration": 0.665743,
     "end_time": "2022-12-03T12:42:23.887455",
     "exception": false,
     "start_time": "2022-12-03T12:42:23.221712",
     "status": "completed"
    },
    "tags": []
   },
   "outputs": [],
   "source": [
    "kmeans_pred1=kmeans_pred\n",
    "if np.mean(kmeans_pred==label_test)>=np.mean((1-kmeans_pred)==label_test):\n",
    "    kmeans_pred=kmeans_pred\n",
    "else:\n",
    "    kmeans_pred=(1-kmeans_pred)"
   ]
  },
  {
   "cell_type": "markdown",
   "id": "59c43424",
   "metadata": {
    "_cell_guid": "be089580-8215-4a42-8fd0-9dd3c0f65632",
    "_uuid": "ac86ff48-e8d0-4a2a-9242-77ef7c40db58",
    "papermill": {
     "duration": 0.70333,
     "end_time": "2022-12-03T12:42:25.383056",
     "exception": false,
     "start_time": "2022-12-03T12:42:24.679726",
     "status": "completed"
    },
    "tags": []
   },
   "source": [
    "Evaluating the model."
   ]
  },
  {
   "cell_type": "code",
   "execution_count": 41,
   "id": "2d1d1ffa",
   "metadata": {
    "_cell_guid": "57f14915-ccfa-48c1-8e04-83f377b3302c",
    "_uuid": "e567f3c4-a9d1-40ed-827a-7f740978954f",
    "collapsed": false,
    "execution": {
     "iopub.execute_input": "2022-12-03T12:42:26.753941Z",
     "iopub.status.busy": "2022-12-03T12:42:26.753398Z",
     "iopub.status.idle": "2022-12-03T12:42:26.774003Z",
     "shell.execute_reply": "2022-12-03T12:42:26.772989Z"
    },
    "jupyter": {
     "outputs_hidden": false
    },
    "papermill": {
     "duration": 0.715255,
     "end_time": "2022-12-03T12:42:26.776006",
     "exception": false,
     "start_time": "2022-12-03T12:42:26.060751",
     "status": "completed"
    },
    "tags": []
   },
   "outputs": [
    {
     "data": {
      "text/html": [
       "<div>\n",
       "<style scoped>\n",
       "    .dataframe tbody tr th:only-of-type {\n",
       "        vertical-align: middle;\n",
       "    }\n",
       "\n",
       "    .dataframe tbody tr th {\n",
       "        vertical-align: top;\n",
       "    }\n",
       "\n",
       "    .dataframe thead th {\n",
       "        text-align: right;\n",
       "    }\n",
       "</style>\n",
       "<table border=\"1\" class=\"dataframe\">\n",
       "  <thead>\n",
       "    <tr style=\"text-align: right;\">\n",
       "      <th></th>\n",
       "      <th>Measure</th>\n",
       "      <th>Bench4</th>\n",
       "    </tr>\n",
       "  </thead>\n",
       "  <tbody>\n",
       "    <tr>\n",
       "      <th>0</th>\n",
       "      <td>Accuracy</td>\n",
       "      <td>0.802293</td>\n",
       "    </tr>\n",
       "    <tr>\n",
       "      <th>1</th>\n",
       "      <td>Sensitivity</td>\n",
       "      <td>0.887010</td>\n",
       "    </tr>\n",
       "    <tr>\n",
       "      <th>2</th>\n",
       "      <td>Specitivity</td>\n",
       "      <td>0.712541</td>\n",
       "    </tr>\n",
       "    <tr>\n",
       "      <th>3</th>\n",
       "      <td>Precision</td>\n",
       "      <td>0.765760</td>\n",
       "    </tr>\n",
       "    <tr>\n",
       "      <th>4</th>\n",
       "      <td>F1 score</td>\n",
       "      <td>0.821937</td>\n",
       "    </tr>\n",
       "  </tbody>\n",
       "</table>\n",
       "</div>"
      ],
      "text/plain": [
       "       Measure    Bench4\n",
       "0     Accuracy  0.802293\n",
       "1  Sensitivity  0.887010\n",
       "2  Specitivity  0.712541\n",
       "3    Precision  0.765760\n",
       "4     F1 score  0.821937"
      ]
     },
     "execution_count": 41,
     "metadata": {},
     "output_type": "execute_result"
    }
   ],
   "source": [
    "pd.DataFrame({'Measure':['Accuracy','Sensitivity','Specitivity','Precision','F1 score'],\n",
    "             'Bench4':[metrics.accuracy_score(label_test,kmeans_pred),\n",
    "                        metrics.recall_score(label_test, kmeans_pred,pos_label=0),\n",
    "                        metrics.recall_score(label_test, kmeans_pred,pos_label=1),\n",
    "                        metrics.precision_score(label_test,kmeans_pred,pos_label=0),\n",
    "                        metrics.f1_score(label_test,kmeans_pred,pos_label=0)]})"
   ]
  },
  {
   "cell_type": "markdown",
   "id": "5f453f6c",
   "metadata": {
    "_cell_guid": "b00406a3-2ff8-4754-a79e-1768e241786f",
    "_uuid": "fc5bae0c-5e05-4d52-a2f7-97113bdee2d1",
    "papermill": {
     "duration": 0.696949,
     "end_time": "2022-12-03T12:42:28.356302",
     "exception": false,
     "start_time": "2022-12-03T12:42:27.659353",
     "status": "completed"
    },
    "tags": []
   },
   "source": [
    "Next was to weight between the predictions of clustering and those from model prediction. Here a user defined function was used, which compares sensitivity from the clustering predictions and those that of from the ANN. the the model with higher sensitivity will be used to predict the the fake news class. conversely the model with higher specificity predicts the other category."
   ]
  },
  {
   "cell_type": "markdown",
   "id": "59065f6d",
   "metadata": {
    "_cell_guid": "ba1e11ff-4cbd-4581-b17e-fde4ece68e9d",
    "_uuid": "a7d79572-951e-4c8b-8e3f-ca808773fbe1",
    "papermill": {
     "duration": 0.665954,
     "end_time": "2022-12-03T12:42:29.678154",
     "exception": false,
     "start_time": "2022-12-03T12:42:29.012200",
     "status": "completed"
    },
    "tags": []
   },
   "source": [
    "**Evaluation on the testing set**"
   ]
  },
  {
   "cell_type": "code",
   "execution_count": 42,
   "id": "e83e06f7",
   "metadata": {
    "execution": {
     "iopub.execute_input": "2022-12-03T12:42:31.080151Z",
     "iopub.status.busy": "2022-12-03T12:42:31.079766Z",
     "iopub.status.idle": "2022-12-03T12:42:32.028015Z",
     "shell.execute_reply": "2022-12-03T12:42:32.027050Z"
    },
    "papermill": {
     "duration": 1.654464,
     "end_time": "2022-12-03T12:42:32.031092",
     "exception": false,
     "start_time": "2022-12-03T12:42:30.376628",
     "status": "completed"
    },
    "tags": []
   },
   "outputs": [
    {
     "data": {
      "image/png": "[encoded data removed]",
      "text/plain": [
       "<Figure size 936x720 with 1 Axes>"
      ]
     },
     "metadata": {},
     "output_type": "display_data"
    }
   ],
   "source": [
    "pca = PCA(2)\n",
    "pcas= pd.DataFrame(pca.fit_transform(tests), columns = ['x','y'])\n",
    "pcas['kmean']= kmeans_pred\n",
    "pcas['label']= label_test\n",
    "\n",
    "def to_binary_labels(labels):\n",
    "    if labels ==0:\n",
    "        x=\"Negative\"\n",
    "    else:\n",
    "        x= \"positive\" \n",
    "    return x\n",
    "\n",
    "pcas['label']=pd.Series (list(map(to_binary_labels,pcas['label'])))\n",
    "pcas['kmean']=pd.Series (list(map(to_binary_labels,pcas['kmean'])))\n",
    "sns.set(rc={\"figure.figsize\":(13, 10)}) \n",
    "sns.scatterplot(data=pcas, x=\"x\", y=\"y\",s=100,style=\"kmean\",hue='label')\n",
    "plt.xlabel('PCA component 1')\n",
    "plt.ylabel('PCA component 2')\n",
    "plt.savefig('PCA4.png')"
   ]
  },
  {
   "cell_type": "code",
   "execution_count": 43,
   "id": "ef51fb7e",
   "metadata": {
    "execution": {
     "iopub.execute_input": "2022-12-03T12:42:33.342324Z",
     "iopub.status.busy": "2022-12-03T12:42:33.341724Z",
     "iopub.status.idle": "2022-12-03T12:42:34.058210Z",
     "shell.execute_reply": "2022-12-03T12:42:34.057161Z"
    },
    "papermill": {
     "duration": 1.374366,
     "end_time": "2022-12-03T12:42:34.060868",
     "exception": false,
     "start_time": "2022-12-03T12:42:32.686502",
     "status": "completed"
    },
    "tags": []
   },
   "outputs": [],
   "source": [
    "modelpred=np.argmax(model4.predict(test), axis=1)\n",
    "sensdeep=metrics.recall_score(label_test, modelpred,pos_label=0)\n",
    "senskmeans=metrics.recall_score(label_test,kmeans_pred,pos_label=0)\n",
    "specdeep=metrics.recall_score(label_test, modelpred,pos_label=1)\n",
    "speckmean=metrics.recall_score(label_test,kmeans_pred,pos_label=1)\n",
    "def weighting(kmeans_pred,modelpred):\n",
    "    conditionals= [] \n",
    "    unconditionals=[]\n",
    "    types= [] \n",
    "    for i in range(len(kmeans_pred)):\n",
    "        if modelpred[i]==0 and kmeans_pred[i]==0:\n",
    "            x=[sensdeep*senskmeans,(1-specdeep)*(1-speckmean)]\n",
    "        elif modelpred[i]==1 and kmeans_pred[i]==1:\n",
    "            x=[(1-sensdeep)*(1-senskmeans),specdeep*speckmean]\n",
    "        elif modelpred[i]==0 and kmeans_pred[i]==1:\n",
    "            x=[sensdeep*(1-senskmeans),(1-specdeep)*speckmean]\n",
    "        else:\n",
    "            x=[(1-sensdeep)*senskmeans,specdeep*(1-speckmean)]\n",
    "        conditionals.append(x)\n",
    "        unconditionals.append((np.array(x)/sum(x)).tolist())\n",
    "    preds=np.argmax(unconditionals,axis=1)\n",
    "    return preds\n",
    "preds=weighting(modelpred,kmeans_pred)"
   ]
  },
  {
   "cell_type": "code",
   "execution_count": 44,
   "id": "156ebb6e",
   "metadata": {
    "_cell_guid": "275686dc-71ee-470e-a460-ef051482e067",
    "_uuid": "87273230-50b2-4692-91c9-af14a90679b8",
    "collapsed": false,
    "execution": {
     "iopub.execute_input": "2022-12-03T12:42:35.501100Z",
     "iopub.status.busy": "2022-12-03T12:42:35.500527Z",
     "iopub.status.idle": "2022-12-03T12:42:35.521253Z",
     "shell.execute_reply": "2022-12-03T12:42:35.520402Z"
    },
    "jupyter": {
     "outputs_hidden": false
    },
    "papermill": {
     "duration": 0.757901,
     "end_time": "2022-12-03T12:42:35.523330",
     "exception": false,
     "start_time": "2022-12-03T12:42:34.765429",
     "status": "completed"
    },
    "tags": []
   },
   "outputs": [
    {
     "data": {
      "text/html": [
       "<div>\n",
       "<style scoped>\n",
       "    .dataframe tbody tr th:only-of-type {\n",
       "        vertical-align: middle;\n",
       "    }\n",
       "\n",
       "    .dataframe tbody tr th {\n",
       "        vertical-align: top;\n",
       "    }\n",
       "\n",
       "    .dataframe thead th {\n",
       "        text-align: right;\n",
       "    }\n",
       "</style>\n",
       "<table border=\"1\" class=\"dataframe\">\n",
       "  <thead>\n",
       "    <tr style=\"text-align: right;\">\n",
       "      <th></th>\n",
       "      <th>Measure</th>\n",
       "      <th>Weighted</th>\n",
       "    </tr>\n",
       "  </thead>\n",
       "  <tbody>\n",
       "    <tr>\n",
       "      <th>0</th>\n",
       "      <td>Accuracy</td>\n",
       "      <td>0.817319</td>\n",
       "    </tr>\n",
       "    <tr>\n",
       "      <th>1</th>\n",
       "      <td>Sensitivity</td>\n",
       "      <td>0.819370</td>\n",
       "    </tr>\n",
       "    <tr>\n",
       "      <th>2</th>\n",
       "      <td>Specitivity</td>\n",
       "      <td>0.815147</td>\n",
       "    </tr>\n",
       "    <tr>\n",
       "      <th>3</th>\n",
       "      <td>Precision</td>\n",
       "      <td>0.824439</td>\n",
       "    </tr>\n",
       "    <tr>\n",
       "      <th>4</th>\n",
       "      <td>F1 score</td>\n",
       "      <td>0.821897</td>\n",
       "    </tr>\n",
       "  </tbody>\n",
       "</table>\n",
       "</div>"
      ],
      "text/plain": [
       "       Measure  Weighted\n",
       "0     Accuracy  0.817319\n",
       "1  Sensitivity  0.819370\n",
       "2  Specitivity  0.815147\n",
       "3    Precision  0.824439\n",
       "4     F1 score  0.821897"
      ]
     },
     "execution_count": 44,
     "metadata": {},
     "output_type": "execute_result"
    }
   ],
   "source": [
    "\n",
    "pd.DataFrame({'Measure':['Accuracy','Sensitivity','Specitivity','Precision','F1 score'],\n",
    "             \"Weighted\":[metrics.accuracy_score(label_test,preds),\n",
    "                        metrics.recall_score(label_test, preds,pos_label=0),\n",
    "                        metrics.recall_score(label_test, preds,pos_label=1),\n",
    "                        metrics.precision_score(label_test,preds,pos_label=0),\n",
    "                        metrics.f1_score(label_test,preds,pos_label=0)]})"
   ]
  },
  {
   "cell_type": "markdown",
   "id": "8e64c122",
   "metadata": {
    "_cell_guid": "c4ce73d0-82ec-4ee2-9585-fcd99c6a0227",
    "_uuid": "473d676a-db79-481a-b8d3-4ddd67db0ba4",
    "papermill": {
     "duration": 0.677449,
     "end_time": "2022-12-03T12:42:36.847003",
     "exception": false,
     "start_time": "2022-12-03T12:42:36.169554",
     "status": "completed"
    },
    "tags": []
   },
   "source": [
    "**Validation**"
   ]
  },
  {
   "cell_type": "code",
   "execution_count": 45,
   "id": "ca4d1884",
   "metadata": {
    "execution": {
     "iopub.execute_input": "2022-12-03T12:42:38.457512Z",
     "iopub.status.busy": "2022-12-03T12:42:38.456934Z",
     "iopub.status.idle": "2022-12-03T12:42:38.577174Z",
     "shell.execute_reply": "2022-12-03T12:42:38.576316Z"
    },
    "papermill": {
     "duration": 1.00585,
     "end_time": "2022-12-03T12:42:38.579435",
     "exception": false,
     "start_time": "2022-12-03T12:42:37.573585",
     "status": "completed"
    },
    "tags": []
   },
   "outputs": [],
   "source": [
    "modelpred=np.argmax(model4.predict(valid), axis=1)\n",
    "valids=feature_miner.predict(valid)\n",
    "kmeans_pred=kmea.predict(valids)\n",
    "\n",
    "if np.mean(kmeans_pred1==label_test)>=np.mean((1-kmeans_pred1)==label_test):\n",
    "    kmeans_pred=kmeans_pred\n",
    "else:\n",
    "    kmeans_pred=(1-kmeans_pred)\n",
    "\n",
    "preds=weighting(modelpred,kmeans_pred)"
   ]
  },
  {
   "cell_type": "code",
   "execution_count": 46,
   "id": "ea22b714",
   "metadata": {
    "_cell_guid": "a88f6f0e-9e6f-42fd-829e-0beb91f6d9e2",
    "_uuid": "dbbb5959-a39c-4002-98e9-fd9d15252f59",
    "collapsed": false,
    "execution": {
     "iopub.execute_input": "2022-12-03T12:42:40.185146Z",
     "iopub.status.busy": "2022-12-03T12:42:40.184681Z",
     "iopub.status.idle": "2022-12-03T12:42:40.209567Z",
     "shell.execute_reply": "2022-12-03T12:42:40.208645Z"
    },
    "jupyter": {
     "outputs_hidden": false
    },
    "papermill": {
     "duration": 0.986658,
     "end_time": "2022-12-03T12:42:40.212181",
     "exception": false,
     "start_time": "2022-12-03T12:42:39.225523",
     "status": "completed"
    },
    "tags": []
   },
   "outputs": [
    {
     "data": {
      "text/html": [
       "<div>\n",
       "<style scoped>\n",
       "    .dataframe tbody tr th:only-of-type {\n",
       "        vertical-align: middle;\n",
       "    }\n",
       "\n",
       "    .dataframe tbody tr th {\n",
       "        vertical-align: top;\n",
       "    }\n",
       "\n",
       "    .dataframe thead th {\n",
       "        text-align: right;\n",
       "    }\n",
       "</style>\n",
       "<table border=\"1\" class=\"dataframe\">\n",
       "  <thead>\n",
       "    <tr style=\"text-align: right;\">\n",
       "      <th></th>\n",
       "      <th>Measure</th>\n",
       "      <th>weighted</th>\n",
       "    </tr>\n",
       "  </thead>\n",
       "  <tbody>\n",
       "    <tr>\n",
       "      <th>0</th>\n",
       "      <td>Accuracy</td>\n",
       "      <td>0.804615</td>\n",
       "    </tr>\n",
       "    <tr>\n",
       "      <th>1</th>\n",
       "      <td>Sensitivity</td>\n",
       "      <td>0.798193</td>\n",
       "    </tr>\n",
       "    <tr>\n",
       "      <th>2</th>\n",
       "      <td>Specitivity</td>\n",
       "      <td>0.811321</td>\n",
       "    </tr>\n",
       "    <tr>\n",
       "      <th>3</th>\n",
       "      <td>Precision</td>\n",
       "      <td>0.815385</td>\n",
       "    </tr>\n",
       "    <tr>\n",
       "      <th>4</th>\n",
       "      <td>F1 score</td>\n",
       "      <td>0.806697</td>\n",
       "    </tr>\n",
       "  </tbody>\n",
       "</table>\n",
       "</div>"
      ],
      "text/plain": [
       "       Measure  weighted\n",
       "0     Accuracy  0.804615\n",
       "1  Sensitivity  0.798193\n",
       "2  Specitivity  0.811321\n",
       "3    Precision  0.815385\n",
       "4     F1 score  0.806697"
      ]
     },
     "execution_count": 46,
     "metadata": {},
     "output_type": "execute_result"
    }
   ],
   "source": [
    "pd.DataFrame({'Measure':['Accuracy','Sensitivity','Specitivity','Precision','F1 score'],\n",
    "             \"weighted\":[metrics.accuracy_score(label_valid,preds),\n",
    "                        metrics.recall_score(label_valid, preds,pos_label=0),\n",
    "                        metrics.recall_score(label_valid, preds,pos_label=1),\n",
    "                        metrics.precision_score(label_valid,preds,pos_label=0),\n",
    "                        metrics.f1_score(label_valid,preds,pos_label=0)]})"
   ]
  }
 ],
 "metadata": {
  "kernelspec": {
   "display_name": "Python 3",
   "language": "python",
   "name": "python3"
  },
  "language_info": {
   "codemirror_mode": {
    "name": "ipython",
    "version": 3
   },
   "file_extension": ".py",
   "mimetype": "text/x-python",
   "name": "python",
   "nbconvert_exporter": "python",
   "pygments_lexer": "ipython3",
   "version": "3.7.12"
  },
  "papermill": {
   "default_parameters": {},
   "duration": 2972.039652,
   "end_time": "2022-12-03T12:42:43.920146",
   "environment_variables": {},
   "exception": null,
   "input_path": "__notebook__.ipynb",
   "output_path": "__notebook__.ipynb",
   "parameters": {},
   "start_time": "2022-12-03T11:53:11.880494",
   "version": "2.3.4"
  }
 },
 "nbformat": 4,
 "nbformat_minor": 5
}
